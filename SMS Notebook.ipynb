{
 "cells": [
  {
   "cell_type": "markdown",
   "metadata": {},
   "source": [
    "# SML project - SMS spam detection\n",
    "\n",
    "### Olivier Pelgrin, François Mentec, Hugo Martin"
   ]
  },
  {
   "cell_type": "code",
   "execution_count": 31,
   "metadata": {},
   "outputs": [],
   "source": [
    "import pandas as pd\n",
    "import numpy as np\n",
    "from sklearn.feature_extraction.text import CountVectorizer\n",
    "from sklearn.model_selection import train_test_split\n",
    "from sklearn.model_selection import KFold\n",
    "from sklearn.naive_bayes import MultinomialNB\n",
    "from sklearn import metrics\n",
    "from sklearn.neural_network import MLPClassifier\n",
    "\n",
    "import matplotlib.pyplot as plt\n",
    "\n",
    "import re # regex"
   ]
  },
  {
   "cell_type": "code",
   "execution_count": 2,
   "metadata": {},
   "outputs": [],
   "source": [
    "#Import spam data and shaping it\n",
    "smsList = pd.read_table(\"SMSSpamCollection.txt\", header=None, names=['label', 'message'])\n",
    "\n",
    "smsList[\"label\"] = smsList[\"label\"].map({\"ham\":0,\"spam\":1})\n",
    "\n",
    "X = smsList.message\n",
    "y = smsList.label"
   ]
  },
  {
   "cell_type": "markdown",
   "metadata": {},
   "source": [
    "## Naive bayes"
   ]
  },
  {
   "cell_type": "code",
   "execution_count": 3,
   "metadata": {},
   "outputs": [],
   "source": [
    "#Splitting dataset into training set and test set\n",
    "X_train, X_test, y_train, y_test = train_test_split(X, y, random_state=42)"
   ]
  },
  {
   "cell_type": "code",
   "execution_count": 4,
   "metadata": {},
   "outputs": [],
   "source": [
    "vect = CountVectorizer()"
   ]
  },
  {
   "cell_type": "code",
   "execution_count": 5,
   "metadata": {},
   "outputs": [],
   "source": [
    "X_train_vect = vect.fit_transform(X_train)"
   ]
  },
  {
   "cell_type": "code",
   "execution_count": 6,
   "metadata": {},
   "outputs": [],
   "source": [
    "X_test_vect = vect.transform(X_test)"
   ]
  },
  {
   "cell_type": "code",
   "execution_count": 7,
   "metadata": {},
   "outputs": [
    {
     "data": {
      "text/plain": [
       "0.98851399856424982"
      ]
     },
     "execution_count": 7,
     "metadata": {},
     "output_type": "execute_result"
    }
   ],
   "source": [
    "nb = MultinomialNB()\n",
    "\n",
    "nb.fit(X_train_vect, y_train)\n",
    "\n",
    "y_prediction_class = nb.predict(X_test_vect)\n",
    "\n",
    "metrics.accuracy_score(y_test, y_prediction_class)"
   ]
  },
  {
   "cell_type": "markdown",
   "metadata": {
    "collapsed": true
   },
   "source": [
    "### With 10-fold cross validation :"
   ]
  },
  {
   "cell_type": "code",
   "execution_count": 8,
   "metadata": {},
   "outputs": [],
   "source": [
    "def cross_val(model):\n",
    "    kf = KFold(n_splits=10)\n",
    "    \n",
    "    res = []\n",
    "    \n",
    "    for train_i, test_i in kf.split(X, y):\n",
    "        cv = CountVectorizer()\n",
    "\n",
    "        train_set = cv.fit_transform([X[i] for i in train_i])\n",
    "        train_class = [y[i] for i in train_i]\n",
    "\n",
    "        test_set = cv.transform([X[i] for i in test_i])\n",
    "        test_class = [y[i] for i in test_i]\n",
    "\n",
    "        model.fit(train_set,train_class)\n",
    "        pred = model.predict(test_set)\n",
    "        \n",
    "        r = metrics.accuracy_score(test_class, pred)\n",
    "        print(r)\n",
    "        res.append(r)\n",
    "        \n",
    "    return np.mean(res)"
   ]
  },
  {
   "cell_type": "code",
   "execution_count": 9,
   "metadata": {},
   "outputs": [
    {
     "name": "stdout",
     "output_type": "stream",
     "text": [
      "0.989247311828\n",
      "0.978494623656\n",
      "0.980251346499\n",
      "0.991023339318\n",
      "0.982046678636\n",
      "0.992818671454\n",
      "0.983842010772\n",
      "0.989228007181\n",
      "0.980251346499\n",
      "0.992818671454\n",
      "Naive Bayes : 98.600220073% accuracy\n"
     ]
    }
   ],
   "source": [
    "nb = MultinomialNB()\n",
    "\n",
    "nb_score = cross_val(nb)\n",
    "\n",
    "print(\"Naive Bayes : \" + str(nb_score*100) + \"% accuracy\")"
   ]
  },
  {
   "cell_type": "code",
   "execution_count": 62,
   "metadata": {},
   "outputs": [
    {
     "name": "stdout",
     "output_type": "stream",
     "text": [
      "[[1203    4]\n",
      " [  12  174]]\n"
     ]
    },
    {
     "data": {
      "image/png": "[encoded data removed]",
      "text/plain": [
       "<matplotlib.figure.Figure at 0x7fbe1a9a8be0>"
      ]
     },
     "metadata": {},
     "output_type": "display_data"
    }
   ],
   "source": [
    "X_train, X_test, y_train, y_test = train_test_split(X, y, random_state=42)\n",
    "\n",
    "vect = CountVectorizer()\n",
    "X_train_vect = vect.fit_transform(X_train)\n",
    "X_test_vect = vect.transform(X_test)\n",
    "\n",
    "nb = MultinomialNB()\n",
    "\n",
    "nb.fit(X_train_vect, y_train)\n",
    "\n",
    "y_prediction_class = nb.predict(X_test_vect)\n",
    "\n",
    "preds = nb.predict_proba(X_test_vect)[:,1]\n",
    "\n",
    "cm = metrics.confusion_matrix(y_test, y_prediction_class)\n",
    "print(cm)\n",
    "\n",
    "fpr, tpr, _ = metrics.roc_curve(y_test, preds)\n",
    "roc_auc = metrics.auc(fpr, tpr)\n",
    "\n",
    "plt.figure()\n",
    "lw = 3\n",
    "plt.plot(fpr, tpr, color='darkorange', lw=lw, label='ROC curve (area = %0.2f)' % roc_auc)\n",
    "plt.plot([0, 1], [0, 1], color='navy', lw=lw, linestyle='--')\n",
    "plt.xlim([0.0, 1.0])\n",
    "plt.ylim([0.0, 1.05])\n",
    "plt.xlabel('False Positive Rate')\n",
    "plt.ylabel('True Positive Rate')\n",
    "plt.title('Receiver operating characteristic')\n",
    "plt.legend(loc=\"lower right\")\n",
    "plt.show()"
   ]
  },
  {
   "cell_type": "markdown",
   "metadata": {},
   "source": [
    "Naive Bayes models are known to have good results in text classification, so it is not surprising to have such a good score and ROC Curve, with an excellent 0.98 AUC score.  \n",
    "The confusion matrix show us that there is few false positive and false negative."
   ]
  },
  {
   "cell_type": "markdown",
   "metadata": {},
   "source": [
    "## Backpropagation neural network\n",
    "We're implementing the technique presented in this article :\n",
    "[RUAN, Guangchen et TAN, Ying. A three-layer back-propagation neural network for spam detection using artificial immune concentration. Soft computing, 2010, vol. 14, no 2, p. 139-150.](https://link.springer.com/content/pdf/10.1007%2Fs00500-009-0440-2.pdf)"
   ]
  },
  {
   "cell_type": "code",
   "execution_count": 10,
   "metadata": {},
   "outputs": [],
   "source": [
    "ENGLISH_STOP_WORDS = frozenset([\n",
    "    \"a\", \"about\", \"above\", \"across\", \"after\", \"afterwards\", \"again\", \"against\",\n",
    "    \"all\", \"almost\", \"alone\", \"along\", \"already\", \"also\", \"although\", \"always\",\n",
    "    \"am\", \"among\", \"amongst\", \"amoungst\", \"amount\", \"an\", \"and\", \"another\",\n",
    "    \"any\", \"anyhow\", \"anyone\", \"anything\", \"anyway\", \"anywhere\", \"are\",\n",
    "    \"around\", \"as\", \"at\", \"back\", \"be\", \"became\", \"because\", \"become\",\n",
    "    \"becomes\", \"becoming\", \"been\", \"before\", \"beforehand\", \"behind\", \"being\",\n",
    "    \"below\", \"beside\", \"besides\", \"between\", \"beyond\", \"bill\", \"both\",\n",
    "    \"bottom\", \"but\", \"by\", \"call\", \"can\", \"cannot\", \"cant\", \"co\", \"con\",\n",
    "    \"could\", \"couldnt\", \"cry\", \"de\", \"describe\", \"detail\", \"do\", \"done\",\n",
    "    \"down\", \"due\", \"during\", \"each\", \"eg\", \"eight\", \"either\", \"eleven\", \"else\",\n",
    "    \"elsewhere\", \"empty\", \"enough\", \"etc\", \"even\", \"ever\", \"every\", \"everyone\",\n",
    "    \"everything\", \"everywhere\", \"except\", \"few\", \"fifteen\", \"fifty\", \"fill\",\n",
    "    \"find\", \"fire\", \"first\", \"five\", \"for\", \"former\", \"formerly\", \"forty\",\n",
    "    \"found\", \"four\", \"from\", \"front\", \"full\", \"further\", \"get\", \"give\", \"go\",\n",
    "    \"had\", \"has\", \"hasnt\", \"have\", \"he\", \"hence\", \"her\", \"here\", \"hereafter\",\n",
    "    \"hereby\", \"herein\", \"hereupon\", \"hers\", \"herself\", \"him\", \"himself\", \"his\",\n",
    "    \"how\", \"however\", \"hundred\", \"i\", \"ie\", \"if\", \"in\", \"inc\", \"indeed\",\n",
    "    \"interest\", \"into\", \"is\", \"it\", \"its\", \"itself\", \"keep\", \"last\", \"latter\",\n",
    "    \"latterly\", \"least\", \"less\", \"ltd\", \"made\", \"many\", \"may\", \"me\",\n",
    "    \"meanwhile\", \"might\", \"mill\", \"mine\", \"more\", \"moreover\", \"most\", \"mostly\",\n",
    "    \"move\", \"much\", \"must\", \"my\", \"myself\", \"name\", \"namely\", \"neither\",\n",
    "    \"never\", \"nevertheless\", \"next\", \"nine\", \"no\", \"nobody\", \"none\", \"noone\",\n",
    "    \"nor\", \"not\", \"nothing\", \"now\", \"nowhere\", \"of\", \"off\", \"often\", \"on\",\n",
    "    \"once\", \"one\", \"only\", \"onto\", \"or\", \"other\", \"others\", \"otherwise\", \"our\",\n",
    "    \"ours\", \"ourselves\", \"out\", \"over\", \"own\", \"part\", \"per\", \"perhaps\",\n",
    "    \"please\", \"put\", \"rather\", \"re\", \"same\", \"see\", \"seem\", \"seemed\",\n",
    "    \"seeming\", \"seems\", \"serious\", \"several\", \"she\", \"should\", \"show\", \"side\",\n",
    "    \"since\", \"sincere\", \"six\", \"sixty\", \"so\", \"some\", \"somehow\", \"someone\",\n",
    "    \"something\", \"sometime\", \"sometimes\", \"somewhere\", \"still\", \"such\",\n",
    "    \"system\", \"take\", \"ten\", \"than\", \"that\", \"the\", \"their\", \"them\",\n",
    "    \"themselves\", \"then\", \"thence\", \"there\", \"thereafter\", \"thereby\",\n",
    "    \"therefore\", \"therein\", \"thereupon\", \"these\", \"they\", \"thick\", \"thin\",\n",
    "    \"third\", \"this\", \"those\", \"though\", \"three\", \"through\", \"throughout\",\n",
    "    \"thru\", \"thus\", \"to\", \"together\", \"too\", \"top\", \"toward\", \"towards\",\n",
    "    \"twelve\", \"twenty\", \"two\", \"un\", \"under\", \"until\", \"up\", \"upon\", \"us\",\n",
    "    \"very\", \"via\", \"was\", \"we\", \"well\", \"were\", \"what\", \"whatever\", \"when\",\n",
    "    \"whence\", \"whenever\", \"where\", \"whereafter\", \"whereas\", \"whereby\",\n",
    "    \"wherein\", \"whereupon\", \"wherever\", \"whether\", \"which\", \"while\", \"whither\",\n",
    "    \"who\", \"whoever\", \"whole\", \"whom\", \"whose\", \"why\", \"will\", \"with\",\n",
    "    \"within\", \"without\", \"would\", \"yet\", \"you\", \"your\", \"yours\", \"yourself\",\n",
    "    \"yourselves\"])"
   ]
  },
  {
   "cell_type": "code",
   "execution_count": 11,
   "metadata": {},
   "outputs": [],
   "source": [
    "regex = re.compile('\\w+')\n",
    "words = {}\n",
    "N = 0 # number of non-spam\n",
    "S = 0 # number of spam\n",
    "\n",
    "X_train, X_test, y_train, y_test = train_test_split(X, y, test_size=0.2, random_state=42)\n",
    "\n",
    "\"\"\"count words support in spam and non-spam sms\n",
    "words['toto'][0] = number of non-spam sms containing the word 'toto'\n",
    "words['toto'][1] = number of spam sms containing the word 'toto'\n",
    "words['toto'][0] + words['toto'][1] = number of sms containing the word 'toto'\n",
    "\"\"\"\n",
    "for i in X_train.index:\n",
    "    X_train[i] = X_train[i].lower()\n",
    "    message = X_train[i]\n",
    "    spam = y_train[i]\n",
    "    # print(str(i) + \" (\" + str(spam) + \") - \" + message)\n",
    "    if spam == 0:\n",
    "        N += 1\n",
    "    else:\n",
    "        S += 1\n",
    "    messageWords = list(set(regex.findall(message))) # doesn't take duplicate\n",
    "    for word in messageWords:\n",
    "        if word in words:\n",
    "            words[word][spam] += 1\n",
    "        else:\n",
    "            words[word] = [(spam + 1) % 2, spam]\n",
    "\n",
    "# we only keep words that appears in less than 95% of sms\n",
    "genes = []\n",
    "for i in words:\n",
    "    if words[i][0] + words[i][1] >= 0.95 * len(X_train):\n",
    "        del words[i]\n",
    "    else:\n",
    "        words[i].append(words[i][0] / N) # frequency appearing in non-spam\n",
    "        words[i].append(words[i][1] / S) # frequency appearing in spam\n",
    "        words[i].append(words[i][2] - words[i][3]) # calculate \"proclivity\" Cf \"4.2 Generation of gene libraries\"\n",
    "        genes.append(i)\n",
    "    \n",
    "genes.sort(key = lambda a: -words[a][4])\n",
    "\n",
    "selfGenes = genes[:round(len(genes) * 0.25)]\n",
    "nonSelfGenes = genes[-round(len(genes) * 0.25):]\n",
    "\n",
    "def getFeatures(message):\n",
    "    self = 0\n",
    "    nonSelf = 0\n",
    "    messageWords = list(set(regex.findall(message)))\n",
    "    for word in messageWords:\n",
    "        if word in selfGenes:\n",
    "            self += 1\n",
    "        elif word in nonSelfGenes:\n",
    "            nonSelf += 1\n",
    "    #return [self / max(1, len(messageWords)), nonSelf / max(1, len(messageWords))]\n",
    "    return [self, nonSelf] # got better results than the concentration proposed in the paper"
   ]
  },
  {
   "cell_type": "code",
   "execution_count": 12,
   "metadata": {},
   "outputs": [],
   "source": [
    "X_train_features = []\n",
    "\n",
    "for message in X_train:\n",
    "    X_train_features.append(getFeatures(message))\n",
    "    \n",
    "X_test_features = []\n",
    "\n",
    "for message in X_test:\n",
    "    X_test_features.append(getFeatures(message))"
   ]
  },
  {
   "cell_type": "code",
   "execution_count": 13,
   "metadata": {},
   "outputs": [
    {
     "name": "stdout",
     "output_type": "stream",
     "text": [
      "0.9820627802690582\n"
     ]
    }
   ],
   "source": [
    "clf = MLPClassifier(solver='lbfgs', alpha=1e-5, hidden_layer_sizes=(3), random_state=1, activation='logistic')\n",
    "clf.fit(X_train_features, y_train)\n",
    "\n",
    "test = clf.predict(X_test_features)\n",
    "correct = 0\n",
    "\n",
    "for i in range(len(test)):\n",
    "    if test[i] == y_test[X_test.index[i]]:\n",
    "        correct += 1\n",
    "        \n",
    "print(correct / len(test))"
   ]
  },
  {
   "cell_type": "code",
   "execution_count": 14,
   "metadata": {},
   "outputs": [
    {
     "data": {
      "text/plain": [
       "array([0])"
      ]
     },
     "execution_count": 14,
     "metadata": {},
     "output_type": "execute_result"
    }
   ],
   "source": [
    "clf.predict([getFeatures('hey honey can u buy milk on your way home?')])"
   ]
  },
  {
   "cell_type": "code",
   "execution_count": 15,
   "metadata": {},
   "outputs": [
    {
     "data": {
      "text/plain": [
       "array([1])"
      ]
     },
     "execution_count": 15,
     "metadata": {},
     "output_type": "execute_result"
    }
   ],
   "source": [
    "clf.predict([getFeatures('wanna win a new car? call this phone number asap 01245145624!!!')])"
   ]
  },
  {
   "cell_type": "markdown",
   "metadata": {},
   "source": [
    "## Support Vector Machine\n",
    "\n",
    "In this section we will test different SVM and analyse their results."
   ]
  },
  {
   "cell_type": "markdown",
   "metadata": {},
   "source": [
    "### SVM with linear kernel"
   ]
  },
  {
   "cell_type": "code",
   "execution_count": 16,
   "metadata": {},
   "outputs": [
    {
     "name": "stdout",
     "output_type": "stream",
     "text": [
      "0.991039426523\n",
      "0.976702508961\n",
      "0.983842010772\n",
      "0.991023339318\n",
      "0.978456014363\n",
      "0.985637342908\n",
      "0.985637342908\n",
      "0.980251346499\n",
      "0.989228007181\n",
      "0.991023339318\n",
      "SVM with linear kernel : 98.5284067875% accuracy\n"
     ]
    }
   ],
   "source": [
    "from sklearn.svm import LinearSVC\n",
    "\n",
    "lsvm = LinearSVC()\n",
    "\n",
    "#We use a 10 fold cross-validation to evaluate the SVM performance\n",
    "   \n",
    "score_linear = cross_val(lsvm)\n",
    "\n",
    "print(\"SVM with linear kernel : \" + str(score_linear*100) + \"% accuracy\")"
   ]
  },
  {
   "cell_type": "code",
   "execution_count": 59,
   "metadata": {},
   "outputs": [
    {
     "name": "stdout",
     "output_type": "stream",
     "text": [
      "[[1206    1]\n",
      " [  20  166]]\n"
     ]
    },
    {
     "data": {
      "image/png": "[encoded data removed]",
      "text/plain": [
       "<matplotlib.figure.Figure at 0x7fbe1a9d80f0>"
      ]
     },
     "metadata": {},
     "output_type": "display_data"
    }
   ],
   "source": [
    "X_train, X_test, y_train, y_test = train_test_split(X, y, random_state=42)\n",
    "\n",
    "vect = CountVectorizer()\n",
    "X_train_vect = vect.fit_transform(X_train)\n",
    "X_test_vect = vect.transform(X_test)\n",
    "\n",
    "lsvm = SVC(kernel='linear', probability=True)\n",
    "\n",
    "lsvm.fit(X_train_vect, y_train)\n",
    "\n",
    "y_prediction_class = lsvm.predict(X_test_vect)\n",
    "\n",
    "preds = lsvm.predict_proba(X_test_vect)[:,1]\n",
    "\n",
    "cm = metrics.confusion_matrix(y_test, y_prediction_class)\n",
    "print(cm)\n",
    "\n",
    "fpr, tpr, _ = metrics.roc_curve(y_test, preds)\n",
    "roc_auc = metrics.auc(fpr, tpr)\n",
    "\n",
    "plt.figure()\n",
    "lw = 3\n",
    "plt.plot(fpr, tpr, color='darkorange', lw=lw, label='ROC curve (area = %0.2f)' % roc_auc)\n",
    "plt.plot([0, 1], [0, 1], color='navy', lw=lw, linestyle='--')\n",
    "plt.xlim([0.0, 1.0])\n",
    "plt.ylim([0.0, 1.05])\n",
    "plt.xlabel('False Positive Rate')\n",
    "plt.ylabel('True Positive Rate')\n",
    "plt.title('Receiver operating characteristic')\n",
    "plt.legend(loc=\"lower right\")\n",
    "plt.show()"
   ]
  },
  {
   "cell_type": "markdown",
   "metadata": {},
   "source": [
    "The ROC curve of the SVM with linear kernel is very close to a perfect classifier with AUC of 0.99. This mean that SVM (with linear kernel) is a pretty good machine learning algorithm for SPAM detection.  \n",
    "Also, SVM linear make few mistake, with only 1 false positive and 20 false negative.   \n",
    "Compared to the Naive Bayes, there is less false positive, but more false negative.  \n",
    "So even if the ROC curve is better than the Naive Bayes's ROC curve, it may be a worst classifier because we probably don't want many false negative.\n",
    "\n",
    "Separate spam and non spam being a simple binary classification problem, a simple linear function seems to be enough.   Overall, with the Naive Bayes having very good results, we can guess that there is no need for complex systems to make good predictions."
   ]
  },
  {
   "cell_type": "markdown",
   "metadata": {},
   "source": [
    "### SVM with polynomial kernel"
   ]
  },
  {
   "cell_type": "code",
   "execution_count": 17,
   "metadata": {},
   "outputs": [
    {
     "name": "stdout",
     "output_type": "stream",
     "text": [
      "0.856630824373\n",
      "0.84229390681\n",
      "0.876122082585\n",
      "0.870736086176\n",
      "0.870736086176\n",
      "0.883303411131\n",
      "0.868940754039\n",
      "0.850987432675\n",
      "0.868940754039\n",
      "0.870736086176\n",
      "SVM with polynomial kernel : 86.5942742418% accuracy\n"
     ]
    }
   ],
   "source": [
    "from sklearn.svm import SVC\n",
    "\n",
    "psvm = SVC(kernel='poly')\n",
    "\n",
    "score_poly = cross_val(psvm)\n",
    "\n",
    "print(\"SVM with polynomial kernel : \" + str(score_poly*100) + \"% accuracy\")"
   ]
  },
  {
   "cell_type": "code",
   "execution_count": 58,
   "metadata": {},
   "outputs": [
    {
     "name": "stdout",
     "output_type": "stream",
     "text": [
      "[[1207    0]\n",
      " [ 186    0]]\n"
     ]
    },
    {
     "data": {
      "image/png": "[encoded data removed]",
      "text/plain": [
       "<matplotlib.figure.Figure at 0x7fbe1ab07ef0>"
      ]
     },
     "metadata": {},
     "output_type": "display_data"
    }
   ],
   "source": [
    "X_train, X_test, y_train, y_test = train_test_split(X, y, random_state=42)\n",
    "\n",
    "vect = CountVectorizer()\n",
    "X_train_vect = vect.fit_transform(X_train)\n",
    "X_test_vect = vect.transform(X_test)\n",
    "\n",
    "svm = SVC(kernel='poly', probability=True)\n",
    "\n",
    "svm.fit(X_train_vect, y_train)\n",
    "\n",
    "y_prediction_class = svm.predict(X_test_vect)\n",
    "\n",
    "preds = svm.predict_proba(X_test_vect)[:,1]\n",
    "\n",
    "cm = metrics.confusion_matrix(y_test, y_prediction_class)\n",
    "print(cm)\n",
    "\n",
    "fpr, tpr, _ = metrics.roc_curve(y_test, preds)\n",
    "roc_auc = metrics.auc(fpr, tpr)\n",
    "\n",
    "plt.figure()\n",
    "lw = 3\n",
    "plt.plot(fpr, tpr, color='darkorange', lw=lw, label='ROC curve (area = %0.2f)' % roc_auc)\n",
    "plt.plot([0, 1], [0, 1], color='navy', lw=lw, linestyle='--')\n",
    "plt.xlim([0.0, 1.0])\n",
    "plt.ylim([0.0, 1.05])\n",
    "plt.xlabel('False Positive Rate')\n",
    "plt.ylabel('True Positive Rate')\n",
    "plt.title('Receiver operating characteristic')\n",
    "plt.legend(loc=\"lower right\")\n",
    "plt.show()"
   ]
  },
  {
   "cell_type": "markdown",
   "metadata": {},
   "source": [
    "The SVM with polynomial kernel also have a good ROC curve. But we can see that the AUC score is lower than SVM with linear kernel. We know that SVM Polynomial have a 86% accuracy, which is much lower than the others classifier tested.  \n",
    "The confusion matrix show us that in fact SVM with poly kernel allways predict the SMS to not be a spam.  \n",
    "Since most SMD aren't spam, it has a good score. Still, it isn't a very interesting model."
   ]
  },
  {
   "cell_type": "markdown",
   "metadata": {},
   "source": [
    "### SVM with rbf kernel"
   ]
  },
  {
   "cell_type": "code",
   "execution_count": 18,
   "metadata": {},
   "outputs": [
    {
     "name": "stdout",
     "output_type": "stream",
     "text": [
      "0.856630824373\n",
      "0.84229390681\n",
      "0.876122082585\n",
      "0.870736086176\n",
      "0.870736086176\n",
      "0.883303411131\n",
      "0.868940754039\n",
      "0.850987432675\n",
      "0.868940754039\n",
      "0.870736086176\n",
      "SVM with rbf kernel : 86.5942742418% accuracy\n"
     ]
    }
   ],
   "source": [
    "rsvm = SVC(kernel='rbf')\n",
    "\n",
    "score_rbf = cross_val(rsvm)\n",
    "\n",
    "print(\"SVM with rbf kernel : \" + str(score_rbf*100) + \"% accuracy\")"
   ]
  },
  {
   "cell_type": "markdown",
   "metadata": {},
   "source": [
    "### SVM with sigmoid kernel"
   ]
  },
  {
   "cell_type": "code",
   "execution_count": 19,
   "metadata": {},
   "outputs": [
    {
     "name": "stdout",
     "output_type": "stream",
     "text": [
      "0.856630824373\n",
      "0.84229390681\n",
      "0.876122082585\n",
      "0.870736086176\n",
      "0.870736086176\n",
      "0.883303411131\n",
      "0.868940754039\n",
      "0.850987432675\n",
      "0.868940754039\n",
      "0.870736086176\n",
      "SVM with sigmoid kernel : 86.5942742418% accuracy\n"
     ]
    }
   ],
   "source": [
    "ssvm = SVC(kernel='sigmoid')\n",
    "\n",
    "score_sigmoid = cross_val(ssvm)\n",
    "\n",
    "print(\"SVM with sigmoid kernel : \" + str(score_sigmoid*100) + \"% accuracy\")"
   ]
  },
  {
   "cell_type": "markdown",
   "metadata": {},
   "source": [
    "All SVM with non-linear kernel all obtain the same 86.59%, which is a bit odd as we use different kernels. It probably show that the spam detection problem is simple enough that learning anything more complicated than a linear function doesn't work well.\n",
    "\n",
    "Analysis of the confusion matrix show that all these model allways predict SMS to be a \"legit\" SMS, which make them not very interesting."
   ]
  },
  {
   "cell_type": "markdown",
   "metadata": {},
   "source": [
    "## Decision Tree"
   ]
  },
  {
   "cell_type": "code",
   "execution_count": 20,
   "metadata": {},
   "outputs": [
    {
     "name": "stdout",
     "output_type": "stream",
     "text": [
      "0.976702508961\n",
      "0.976702508961\n",
      "0.97486535009\n",
      "0.97486535009\n",
      "0.971274685817\n",
      "0.971274685817\n",
      "0.967684021544\n",
      "0.964093357271\n",
      "0.960502692998\n",
      "0.973070017953\n",
      "Decision Tree score : 97.110351795% accuracy\n"
     ]
    }
   ],
   "source": [
    "from sklearn import tree\n",
    "\n",
    "t = tree.DecisionTreeClassifier()\n",
    "\n",
    "score_tree = cross_val(t)\n",
    "\n",
    "print(\"Decision Tree score : \" + str(score_tree*100) + \"% accuracy\")"
   ]
  },
  {
   "cell_type": "markdown",
   "metadata": {},
   "source": [
    "The decision tree work pretty well, doing 97% accuracy on average."
   ]
  },
  {
   "cell_type": "code",
   "execution_count": 61,
   "metadata": {},
   "outputs": [
    {
     "name": "stdout",
     "output_type": "stream",
     "text": [
      "[[1197   10]\n",
      " [  23  163]]\n"
     ]
    },
    {
     "data": {
      "image/png": "[encoded data removed]",
      "text/plain": [
       "<matplotlib.figure.Figure at 0x7fbe1ad088d0>"
      ]
     },
     "metadata": {},
     "output_type": "display_data"
    }
   ],
   "source": [
    "X_train, X_test, y_train, y_test = train_test_split(X, y, random_state=42)\n",
    "\n",
    "vect = CountVectorizer()\n",
    "X_train_vect = vect.fit_transform(X_train)\n",
    "X_test_vect = vect.transform(X_test)\n",
    "\n",
    "t = tree.DecisionTreeClassifier()\n",
    "\n",
    "t.fit(X_train_vect, y_train)\n",
    "\n",
    "y_prediction_class = t.predict(X_test_vect)\n",
    "\n",
    "preds = t.predict_proba(X_test_vect)[:,1]\n",
    "\n",
    "cm = metrics.confusion_matrix(y_test, y_prediction_class)\n",
    "print(cm)\n",
    "\n",
    "fpr, tpr, _ = metrics.roc_curve(y_test, preds)\n",
    "roc_auc = metrics.auc(fpr, tpr)\n",
    "\n",
    "plt.figure()\n",
    "lw = 2\n",
    "plt.plot(fpr, tpr, color='darkorange', lw=lw, label='ROC curve (area = %0.2f)' % roc_auc)\n",
    "plt.plot([0, 1], [0, 1], color='navy', lw=lw, linestyle='--')\n",
    "plt.xlim([0.0, 1.0])\n",
    "plt.ylim([0.0, 1.05])\n",
    "plt.xlabel('False Positive Rate')\n",
    "plt.ylabel('True Positive Rate')\n",
    "plt.title('Receiver operating characteristic')\n",
    "plt.legend(loc=\"lower right\")\n",
    "plt.show()"
   ]
  },
  {
   "cell_type": "markdown",
   "metadata": {},
   "source": [
    "With the confusion matrix, we can see that decistion tree is pretty accurate. But it is worst than all the others classifier, except SVM with non-linear kernels."
   ]
  },
  {
   "cell_type": "code",
   "execution_count": null,
   "metadata": {},
   "outputs": [],
   "source": []
  }
 ],
 "metadata": {
  "kernelspec": {
   "display_name": "Python 3",
   "language": "python",
   "name": "python3"
  },
  "language_info": {
   "codemirror_mode": {
    "name": "ipython",
    "version": 3
   },
   "file_extension": ".py",
   "mimetype": "text/x-python",
   "name": "python",
   "nbconvert_exporter": "python",
   "pygments_lexer": "ipython3",
   "version": "3.6.2"
  }
 },
 "nbformat": 4,
 "nbformat_minor": 2
}
