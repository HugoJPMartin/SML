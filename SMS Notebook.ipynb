{
 "cells": [
  {
   "cell_type": "markdown",
   "metadata": {},
   "source": [
    "# SML project - SMS spam detection\n",
    "\n",
    "### Olivier Pelgrin, François Mentec, Hugo Martin"
   ]
  },
  {
   "cell_type": "code",
   "execution_count": 1,
   "metadata": {},
   "outputs": [],
   "source": [
    "import pandas as pd\n",
    "import numpy as np\n",
    "from sklearn.feature_extraction.text import CountVectorizer\n",
    "from sklearn.model_selection import train_test_split\n",
    "from sklearn.model_selection import KFold\n",
    "from sklearn.naive_bayes import MultinomialNB\n",
    "from sklearn import metrics\n",
    "from sklearn.neural_network import MLPClassifier\n",
    "\n",
    "from sklearn.svm import LinearSVC\n",
    "from sklearn.svm import SVC\n",
    "\n",
    "from sklearn import tree\n",
    "\n",
    "import matplotlib.pyplot as plt\n",
    "\n",
    "import re # regex"
   ]
  },
  {
   "cell_type": "code",
   "execution_count": 2,
   "metadata": {},
   "outputs": [],
   "source": [
    "#Import spam data and shaping it\n",
    "smsList = pd.read_table(\"SMSSpamCollection.txt\", header=None, names=['label', 'message'])\n",
    "\n",
    "smsList[\"label\"] = smsList[\"label\"].map({\"ham\":0,\"spam\":1})\n",
    "\n",
    "X = smsList.message\n",
    "y = smsList.label"
   ]
  },
  {
   "cell_type": "markdown",
   "metadata": {},
   "source": [
    "## Naive bayes\n",
    "\n",
    "We will start by using a Naive Bayes as a baseline classifier.  \n",
    "Naive Bayes are known to have good results for text classification."
   ]
  },
  {
   "cell_type": "code",
   "execution_count": 3,
   "metadata": {},
   "outputs": [],
   "source": [
    "#Splitting dataset into training set and test set\n",
    "X_train, X_test, y_train, y_test = train_test_split(X, y, random_state=42)"
   ]
  },
  {
   "cell_type": "code",
   "execution_count": 4,
   "metadata": {},
   "outputs": [],
   "source": [
    "vect = CountVectorizer()"
   ]
  },
  {
   "cell_type": "code",
   "execution_count": 5,
   "metadata": {},
   "outputs": [],
   "source": [
    "X_train_vect = vect.fit_transform(X_train)"
   ]
  },
  {
   "cell_type": "code",
   "execution_count": 6,
   "metadata": {},
   "outputs": [],
   "source": [
    "X_test_vect = vect.transform(X_test)"
   ]
  },
  {
   "cell_type": "code",
   "execution_count": 7,
   "metadata": {},
   "outputs": [
    {
     "data": {
      "text/plain": [
       "0.98851399856424982"
      ]
     },
     "execution_count": 7,
     "metadata": {},
     "output_type": "execute_result"
    }
   ],
   "source": [
    "nb = MultinomialNB()\n",
    "\n",
    "nb.fit(X_train_vect, y_train)\n",
    "\n",
    "y_prediction_class = nb.predict(X_test_vect)\n",
    "\n",
    "metrics.accuracy_score(y_test, y_prediction_class)"
   ]
  },
  {
   "cell_type": "markdown",
   "metadata": {
    "collapsed": true
   },
   "source": [
    "### With 10-fold cross validation :"
   ]
  },
  {
   "cell_type": "code",
   "execution_count": 12,
   "metadata": {},
   "outputs": [],
   "source": [
    "#A function that evaluate a machine learning model with 10-fold cross validation\n",
    "def cross_val(model):\n",
    "    kf = KFold(n_splits=10)\n",
    "    \n",
    "    res = []\n",
    "    \n",
    "    for train_i, test_i in kf.split(X, y):\n",
    "        cv = CountVectorizer()\n",
    "\n",
    "        train_set = cv.fit_transform([X[i] for i in train_i])\n",
    "        train_class = [y[i] for i in train_i]\n",
    "\n",
    "        test_set = cv.transform([X[i] for i in test_i])\n",
    "        test_class = [y[i] for i in test_i]\n",
    "\n",
    "        model.fit(train_set,train_class)\n",
    "        pred = model.predict(test_set)\n",
    "        \n",
    "        r = metrics.accuracy_score(test_class, pred)\n",
    "        print(r)\n",
    "        res.append(r)\n",
    "        \n",
    "    return np.mean(res)"
   ]
  },
  {
   "cell_type": "code",
   "execution_count": 9,
   "metadata": {},
   "outputs": [
    {
     "name": "stdout",
     "output_type": "stream",
     "text": [
      "0.989247311828\n",
      "0.978494623656\n",
      "0.980251346499\n",
      "0.991023339318\n",
      "0.982046678636\n",
      "0.992818671454\n",
      "0.983842010772\n",
      "0.989228007181\n",
      "0.980251346499\n",
      "0.992818671454\n",
      "Naive Bayes : 98.600220073% accuracy\n"
     ]
    }
   ],
   "source": [
    "nb = MultinomialNB()\n",
    "\n",
    "nb_score = cross_val(nb)\n",
    "\n",
    "print(\"Naive Bayes : \" + str(nb_score*100) + \"% accuracy\")"
   ]
  },
  {
   "cell_type": "code",
   "execution_count": 85,
   "metadata": {},
   "outputs": [],
   "source": [
    "import nltk.stem\n",
    "\n",
    "stemmer = nltk.stem.SnowballStemmer('english')\n",
    "class StemmedCountVectorizer(CountVectorizer):\n",
    "    def build_analyzer(self):\n",
    "        analyzer = super(StemmedCountVectorizer, self).build_analyzer()\n",
    "        return lambda doc: ([stemmer.stem(w) for w in analyzer(doc)])\n",
    "\n",
    "#A function that compute diverse metrics like confusion matrix, accuracy score and ROC Curve.\n",
    "def compute_metrics(model, vect_type='count'):\n",
    "    vect = CountVectorizer()\n",
    "    \n",
    "    if(vect_type=='stemmed'):\n",
    "        print(\"Use of stemmed count vectorizer\")\n",
    "        vect = StemmedCountVectorizer(min_df=3, analyzer=\"word\", stop_words='english')\n",
    "        \n",
    "    X_train, X_test, y_train, y_test = train_test_split(X, y, random_state=42)\n",
    "    X_train_vect = vect.fit_transform(X_train)\n",
    "    X_test_vect = vect.transform(X_test)\n",
    "    \n",
    "    model.fit(X_train_vect, y_train)\n",
    "\n",
    "    y_prediction_class = model.predict(X_test_vect)\n",
    "\n",
    "    preds = model.predict_proba(X_test_vect)[:,1]\n",
    "    \n",
    "    false_positive = X_test[(y_prediction_class==1) & (y_test==0)]\n",
    "    false_negative = X_test[(y_prediction_class < y_test)]\n",
    "\n",
    "    cm = metrics.confusion_matrix(y_test, y_prediction_class)\n",
    "    print(cm)\n",
    "\n",
    "    fpr, tpr, _ = metrics.roc_curve(y_test, preds)\n",
    "    roc_auc = metrics.auc(fpr, tpr)\n",
    "\n",
    "    plt.figure()\n",
    "    lw = 3\n",
    "    plt.plot(fpr, tpr, color='darkorange', lw=lw, label='ROC curve (area = %0.2f)' % roc_auc)\n",
    "    plt.plot([0, 1], [0, 1], color='navy', lw=lw, linestyle='--')\n",
    "    plt.xlim([0.0, 1.0])\n",
    "    plt.ylim([0.0, 1.05])\n",
    "    plt.xlabel('False Positive Rate')\n",
    "    plt.ylabel('True Positive Rate')\n",
    "    plt.title('Receiver operating characteristic')\n",
    "    plt.legend(loc=\"lower right\")\n",
    "    plt.show()\n",
    "    \n",
    "    print(\"False positive : \")\n",
    "    print(false_positive)\n",
    "    print(\"False negative : \")\n",
    "    print(false_negative)\n",
    "    \n",
    "    acc = metrics.accuracy_score(y_test, y_prediction_class)\n",
    "    print(\"Accuracy : \" + str(acc))"
   ]
  },
  {
   "cell_type": "code",
   "execution_count": 52,
   "metadata": {},
   "outputs": [
    {
     "name": "stdout",
     "output_type": "stream",
     "text": [
      "[[1203    4]\n",
      " [  12  174]]\n"
     ]
    },
    {
     "data": {
      "image/png": "[encoded data removed]",
      "text/plain": [
       "<matplotlib.figure.Figure at 0x7fec8a0549e8>"
      ]
     },
     "metadata": {},
     "output_type": "display_data"
    },
    {
     "name": "stdout",
     "output_type": "stream",
     "text": [
      "False positive : \n",
      "1988                     No calls..messages..missed calls\n",
      "45                       No calls..messages..missed calls\n",
      "1260    We have sent JD for Customer Service cum Accou...\n",
      "2173     Yavnt tried yet and never played original either\n",
      "Name: message, dtype: object\n",
      "False negative : \n",
      "3864    Oh my god! I've found your number again! I'm s...\n",
      "2575    Your next amazing xxx PICSFREE1 video will be ...\n",
      "2402    Babe: U want me dont u baby! Im nasty and have...\n",
      "2663    Hello darling how are you today? I would love ...\n",
      "751     Do you realize that in about 40 years, we'll h...\n",
      "856     Talk sexy!! Make new friends or fall in love i...\n",
      "3360    Sorry I missed your call let's talk when you h...\n",
      "3425    Am new 2 club & dont fink we met yet Will B gr...\n",
      "731     Email AlertFrom: Jeri StewartSize: 2KBSubject:...\n",
      "1893    CALL 09090900040 & LISTEN TO EXTREME DIRTY LIV...\n",
      "68      Did you hear about the new \"Divorce Barbie\"? I...\n",
      "3132    LookAtMe!: Thanks for your purchase of a video...\n",
      "Name: message, dtype: object\n",
      "Accuracy : 0.988513998564\n"
     ]
    }
   ],
   "source": [
    "nb = MultinomialNB()\n",
    "compute_metrics(nb)"
   ]
  },
  {
   "cell_type": "markdown",
   "metadata": {},
   "source": [
    "Naive Bayes models are known to have good results in text classification, so it is not surprising to have such a good score and ROC Curve, with an excellent 0.98 AUC score.  \n",
    "The confusion matrix show us that there is few false positive and false negative."
   ]
  },
  {
   "cell_type": "markdown",
   "metadata": {},
   "source": [
    "## Backpropagation neural network\n",
    "We're implementing the technique presented in this article :\n",
    "[RUAN, Guangchen et TAN, Ying. A three-layer back-propagation neural network for spam detection using artificial immune concentration. Soft computing, 2010, vol. 14, no 2, p. 139-150.](https://link.springer.com/content/pdf/10.1007%2Fs00500-009-0440-2.pdf)"
   ]
  },
  {
   "cell_type": "code",
   "execution_count": 5,
   "metadata": {},
   "outputs": [],
   "source": [
    "ENGLISH_STOP_WORDS = frozenset([\n",
    "    \"a\", \"about\", \"above\", \"across\", \"after\", \"afterwards\", \"again\", \"against\",\n",
    "    \"all\", \"almost\", \"alone\", \"along\", \"already\", \"also\", \"although\", \"always\",\n",
    "    \"am\", \"among\", \"amongst\", \"amoungst\", \"amount\", \"an\", \"and\", \"another\",\n",
    "    \"any\", \"anyhow\", \"anyone\", \"anything\", \"anyway\", \"anywhere\", \"are\",\n",
    "    \"around\", \"as\", \"at\", \"back\", \"be\", \"became\", \"because\", \"become\",\n",
    "    \"becomes\", \"becoming\", \"been\", \"before\", \"beforehand\", \"behind\", \"being\",\n",
    "    \"below\", \"beside\", \"besides\", \"between\", \"beyond\", \"bill\", \"both\",\n",
    "    \"bottom\", \"but\", \"by\", \"call\", \"can\", \"cannot\", \"cant\", \"co\", \"con\",\n",
    "    \"could\", \"couldnt\", \"cry\", \"de\", \"describe\", \"detail\", \"do\", \"done\",\n",
    "    \"down\", \"due\", \"during\", \"each\", \"eg\", \"eight\", \"either\", \"eleven\", \"else\",\n",
    "    \"elsewhere\", \"empty\", \"enough\", \"etc\", \"even\", \"ever\", \"every\", \"everyone\",\n",
    "    \"everything\", \"everywhere\", \"except\", \"few\", \"fifteen\", \"fifty\", \"fill\",\n",
    "    \"find\", \"fire\", \"first\", \"five\", \"for\", \"former\", \"formerly\", \"forty\",\n",
    "    \"found\", \"four\", \"from\", \"front\", \"full\", \"further\", \"get\", \"give\", \"go\",\n",
    "    \"had\", \"has\", \"hasnt\", \"have\", \"he\", \"hence\", \"her\", \"here\", \"hereafter\",\n",
    "    \"hereby\", \"herein\", \"hereupon\", \"hers\", \"herself\", \"him\", \"himself\", \"his\",\n",
    "    \"how\", \"however\", \"hundred\", \"i\", \"ie\", \"if\", \"in\", \"inc\", \"indeed\",\n",
    "    \"interest\", \"into\", \"is\", \"it\", \"its\", \"itself\", \"keep\", \"last\", \"latter\",\n",
    "    \"latterly\", \"least\", \"less\", \"ltd\", \"made\", \"many\", \"may\", \"me\",\n",
    "    \"meanwhile\", \"might\", \"mill\", \"mine\", \"more\", \"moreover\", \"most\", \"mostly\",\n",
    "    \"move\", \"much\", \"must\", \"my\", \"myself\", \"name\", \"namely\", \"neither\",\n",
    "    \"never\", \"nevertheless\", \"next\", \"nine\", \"no\", \"nobody\", \"none\", \"noone\",\n",
    "    \"nor\", \"not\", \"nothing\", \"now\", \"nowhere\", \"of\", \"off\", \"often\", \"on\",\n",
    "    \"once\", \"one\", \"only\", \"onto\", \"or\", \"other\", \"others\", \"otherwise\", \"our\",\n",
    "    \"ours\", \"ourselves\", \"out\", \"over\", \"own\", \"part\", \"per\", \"perhaps\",\n",
    "    \"please\", \"put\", \"rather\", \"re\", \"same\", \"see\", \"seem\", \"seemed\",\n",
    "    \"seeming\", \"seems\", \"serious\", \"several\", \"she\", \"should\", \"show\", \"side\",\n",
    "    \"since\", \"sincere\", \"six\", \"sixty\", \"so\", \"some\", \"somehow\", \"someone\",\n",
    "    \"something\", \"sometime\", \"sometimes\", \"somewhere\", \"still\", \"such\",\n",
    "    \"system\", \"take\", \"ten\", \"than\", \"that\", \"the\", \"their\", \"them\",\n",
    "    \"themselves\", \"then\", \"thence\", \"there\", \"thereafter\", \"thereby\",\n",
    "    \"therefore\", \"therein\", \"thereupon\", \"these\", \"they\", \"thick\", \"thin\",\n",
    "    \"third\", \"this\", \"those\", \"though\", \"three\", \"through\", \"throughout\",\n",
    "    \"thru\", \"thus\", \"to\", \"together\", \"too\", \"top\", \"toward\", \"towards\",\n",
    "    \"twelve\", \"twenty\", \"two\", \"un\", \"under\", \"until\", \"up\", \"upon\", \"us\",\n",
    "    \"very\", \"via\", \"was\", \"we\", \"well\", \"were\", \"what\", \"whatever\", \"when\",\n",
    "    \"whence\", \"whenever\", \"where\", \"whereafter\", \"whereas\", \"whereby\",\n",
    "    \"wherein\", \"whereupon\", \"wherever\", \"whether\", \"which\", \"while\", \"whither\",\n",
    "    \"who\", \"whoever\", \"whole\", \"whom\", \"whose\", \"why\", \"will\", \"with\",\n",
    "    \"within\", \"without\", \"would\", \"yet\", \"you\", \"your\", \"yours\", \"yourself\",\n",
    "    \"yourselves\"])"
   ]
  },
  {
   "cell_type": "code",
   "execution_count": 6,
   "metadata": {},
   "outputs": [],
   "source": [
    "regex = re.compile('\\w+')\n",
    "words = {}\n",
    "N = 0 # number of non-spam\n",
    "S = 0 # number of spam\n",
    "\n",
    "X_train, X_test, y_train, y_test = train_test_split(X, y, test_size=0.2, random_state=42)\n",
    "\n",
    "\"\"\"count words support in spam and non-spam sms\n",
    "words['toto'][0] = number of non-spam sms containing the word 'toto'\n",
    "words['toto'][1] = number of spam sms containing the word 'toto'\n",
    "words['toto'][0] + words['toto'][1] = number of sms containing the word 'toto'\n",
    "\"\"\"\n",
    "for i in X_train.index:\n",
    "    X_train[i] = X_train[i].lower()\n",
    "    message = X_train[i]\n",
    "    spam = y_train[i]\n",
    "    # print(str(i) + \" (\" + str(spam) + \") - \" + message)\n",
    "    if spam == 0:\n",
    "        N += 1\n",
    "    else:\n",
    "        S += 1\n",
    "    messageWords = list(set(regex.findall(message))) # doesn't take duplicate\n",
    "    for word in messageWords:\n",
    "        if word in words:\n",
    "            words[word][spam] += 1\n",
    "        else:\n",
    "            words[word] = [(spam + 1) % 2, spam]\n",
    "\n",
    "# we only keep words that appears in less than 95% of sms\n",
    "genes = []\n",
    "for i in words:\n",
    "    if words[i][0] + words[i][1] >= 0.95 * len(X_train):\n",
    "        del words[i]\n",
    "    else:\n",
    "        words[i].append(words[i][0] / N) # frequency appearing in non-spam\n",
    "        words[i].append(words[i][1] / S) # frequency appearing in spam\n",
    "        words[i].append(words[i][2] - words[i][3]) # calculate \"proclivity\" Cf \"4.2 Generation of gene libraries\"\n",
    "        genes.append(i)\n",
    "    \n",
    "genes.sort(key = lambda a: -words[a][4])\n",
    "\n",
    "selfGenes = genes[:round(len(genes) * 0.25)]\n",
    "nonSelfGenes = genes[-round(len(genes) * 0.25):]\n",
    "\n",
    "def getFeatures(message):\n",
    "    self = 0\n",
    "    nonSelf = 0\n",
    "    messageWords = list(set(regex.findall(message)))\n",
    "    for word in messageWords:\n",
    "        if word in selfGenes:\n",
    "            self += 1\n",
    "        elif word in nonSelfGenes:\n",
    "            nonSelf += 1\n",
    "    #return [self / max(1, len(messageWords)), nonSelf / max(1, len(messageWords))]\n",
    "    return [self, nonSelf] # got better results than the concentration proposed in the paper"
   ]
  },
  {
   "cell_type": "code",
   "execution_count": 7,
   "metadata": {},
   "outputs": [],
   "source": [
    "X_train_features = []\n",
    "\n",
    "for message in X_train:\n",
    "    X_train_features.append(getFeatures(message))\n",
    "    \n",
    "X_test_features = []\n",
    "\n",
    "for message in X_test:\n",
    "    X_test_features.append(getFeatures(message))"
   ]
  },
  {
   "cell_type": "code",
   "execution_count": 8,
   "metadata": {},
   "outputs": [
    {
     "name": "stdout",
     "output_type": "stream",
     "text": [
      "0.9820627802690582\n"
     ]
    }
   ],
   "source": [
    "clf = MLPClassifier(solver='lbfgs', alpha=1e-5, hidden_layer_sizes=(3), random_state=1, activation='logistic')\n",
    "clf.fit(X_train_features, y_train)\n",
    "\n",
    "test = clf.predict(X_test_features)\n",
    "correct = 0\n",
    "\n",
    "for i in range(len(test)):\n",
    "    if test[i] == y_test[X_test.index[i]]:\n",
    "        correct += 1\n",
    "        \n",
    "print(correct / len(test))"
   ]
  },
  {
   "cell_type": "code",
   "execution_count": 9,
   "metadata": {},
   "outputs": [
    {
     "data": {
      "text/plain": [
       "array([0])"
      ]
     },
     "execution_count": 9,
     "metadata": {},
     "output_type": "execute_result"
    }
   ],
   "source": [
    "clf.predict([getFeatures('hey honey can u buy milk on your way home?')])"
   ]
  },
  {
   "cell_type": "code",
   "execution_count": 10,
   "metadata": {},
   "outputs": [
    {
     "data": {
      "text/plain": [
       "array([1])"
      ]
     },
     "execution_count": 10,
     "metadata": {},
     "output_type": "execute_result"
    }
   ],
   "source": [
    "clf.predict([getFeatures('wanna win a new car? call this phone number asap 01245145624!!!')])"
   ]
  },
  {
   "cell_type": "markdown",
   "metadata": {},
   "source": [
    "The MultilayerPercetron have good results, on par with the Naive Bayes. But it isn't better despite being a much more complex classifier."
   ]
  },
  {
   "cell_type": "markdown",
   "metadata": {},
   "source": [
    "## Support Vector Machine\n",
    "\n",
    "In this section we will test different SVM and analyse their results."
   ]
  },
  {
   "cell_type": "markdown",
   "metadata": {},
   "source": [
    "### SVM with linear kernel"
   ]
  },
  {
   "cell_type": "code",
   "execution_count": 13,
   "metadata": {},
   "outputs": [
    {
     "name": "stdout",
     "output_type": "stream",
     "text": [
      "0.991039426523\n",
      "0.976702508961\n",
      "0.983842010772\n",
      "0.991023339318\n",
      "0.978456014363\n",
      "0.985637342908\n",
      "0.985637342908\n",
      "0.980251346499\n",
      "0.989228007181\n",
      "0.991023339318\n",
      "SVM with linear kernel : 98.5284067875% accuracy\n"
     ]
    }
   ],
   "source": [
    "lsvm = LinearSVC()\n",
    "\n",
    "#We use a 10 fold cross-validation to evaluate the SVM performance\n",
    "   \n",
    "score_linear = cross_val(lsvm)\n",
    "\n",
    "print(\"SVM with linear kernel : \" + str(score_linear*100) + \"% accuracy\")"
   ]
  },
  {
   "cell_type": "code",
   "execution_count": 53,
   "metadata": {},
   "outputs": [
    {
     "name": "stdout",
     "output_type": "stream",
     "text": [
      "[[1206    1]\n",
      " [  20  166]]\n"
     ]
    },
    {
     "data": {
      "image/png": "[encoded data removed]",
      "text/plain": [
       "<matplotlib.figure.Figure at 0x7fec8a01d9e8>"
      ]
     },
     "metadata": {},
     "output_type": "display_data"
    },
    {
     "name": "stdout",
     "output_type": "stream",
     "text": [
      "False positive : \n",
      "1630    Sounds like you have many talents! would you l...\n",
      "Name: message, dtype: object\n",
      "False negative : \n",
      "3864    Oh my god! I've found your number again! I'm s...\n",
      "2402    Babe: U want me dont u baby! Im nasty and have...\n",
      "2663    Hello darling how are you today? I would love ...\n",
      "751     Do you realize that in about 40 years, we'll h...\n",
      "4410    For your chance to WIN a FREE Bluetooth Headse...\n",
      "763     Urgent Ur £500 guaranteed award is still uncla...\n",
      "4047        Win a £1000 cash prize or a prize worth £5000\n",
      "3885    A link to your picture has been sent. You can ...\n",
      "3360    Sorry I missed your call let's talk when you h...\n",
      "2770    Burger King - Wanna play footy at a top stadiu...\n",
      "5120         PRIVATE! Your 2003 Account Statement for 078\n",
      "4295    Kit Strip - you have been billed 150p. Netcoll...\n",
      "731     Email AlertFrom: Jeri StewartSize: 2KBSubject:...\n",
      "1893    CALL 09090900040 & LISTEN TO EXTREME DIRTY LIV...\n",
      "415     100 dating service cal;l 09064012103 box334sk38ch\n",
      "1777                    Call FREEPHONE 0800 542 0578 now!\n",
      "68      Did you hear about the new \"Divorce Barbie\"? I...\n",
      "5377    The current leading bid is 151. To pause this ...\n",
      "3132    LookAtMe!: Thanks for your purchase of a video...\n",
      "19      England v Macedonia - dont miss the goals/team...\n",
      "Name: message, dtype: object\n",
      "Accuracy : 0.984924623116\n"
     ]
    }
   ],
   "source": [
    "lsvm = SVC(kernel='linear', probability=True)\n",
    "compute_metrics(lsvm)"
   ]
  },
  {
   "cell_type": "markdown",
   "metadata": {},
   "source": [
    "The ROC curve of the SVM with linear kernel is very close to a perfect classifier with AUC of 0.99. This mean that SVM (with linear kernel) is a pretty good machine learning algorithm for SPAM detection.  \n",
    "Also, SVM linear make few mistake, with only 1 false positive and 20 false negative.   \n",
    "Compared to the Naive Bayes, there is less false positive, but more false negative.  \n",
    "So even if the ROC curve is better than the Naive Bayes's ROC curve, it may be a worst classifier because we probably don't want many false negative.\n",
    "\n",
    "Separate spam and non spam being a simple binary classification problem, a simple linear function seems to be enough.   Overall, with the Naive Bayes having very good results, we can guess that there is no need for complex systems to make good predictions.\n",
    "\n",
    "Since SVM with Linear kernel is one of the best classifier (except Naive Bayes), we will test if Grid Search can give us even better results : \n"
   ]
  },
  {
   "cell_type": "code",
   "execution_count": 64,
   "metadata": {},
   "outputs": [
    {
     "name": "stdout",
     "output_type": "stream",
     "text": [
      "0.984206748026\n"
     ]
    }
   ],
   "source": [
    "from sklearn.model_selection import GridSearchCV\n",
    "\n",
    "vect = CountVectorizer()\n",
    "X_train, X_test, y_train, y_test = train_test_split(X, y, random_state=42)\n",
    "X_train_vect = vect.fit_transform(X_train)\n",
    "X_test_vect = vect.transform(X_test)\n",
    "\n",
    "lsvm = SVC(kernel='linear', probability=True)\n",
    "\n",
    "param = {'C':[1, 10, 100, 1000, 10000]}\n",
    "gs_svm = GridSearchCV(lsvm, param, n_jobs=-1)\n",
    "\n",
    "gs_clf = gs_svm.fit(X_train_vect, y_train)\n",
    "gs_clf.predict(X_test_vect)\n",
    "\n",
    "print(gs_clf.best_score_)"
   ]
  },
  {
   "cell_type": "markdown",
   "metadata": {},
   "source": [
    "Grid Search dosn't improve the classifier accuracy, meaning that the SVM is already as efficient as it can probably be.\n",
    "\n",
    "Next we will try if a better text pre-processing help with the result"
   ]
  },
  {
   "cell_type": "code",
   "execution_count": 73,
   "metadata": {},
   "outputs": [
    {
     "name": "stdout",
     "output_type": "stream",
     "text": [
      "Use of stemmed count vectorizer\n",
      "[[1204    3]\n",
      " [  18  168]]\n"
     ]
    },
    {
     "data": {
      "image/png": "[encoded data removed]",
      "text/plain": [
       "<matplotlib.figure.Figure at 0x7fec735c9f28>"
      ]
     },
     "metadata": {},
     "output_type": "display_data"
    },
    {
     "name": "stdout",
     "output_type": "stream",
     "text": [
      "False positive : \n",
      "439     Hi hope u get this txt~journey hasnt been gd,n...\n",
      "3197    I av a new number,  . Wil u only use this one,ta.\n",
      "841     I luv u soo much u dont understand how specia...\n",
      "Name: message, dtype: object\n",
      "False negative : \n",
      "3864    Oh my god! I've found your number again! I'm s...\n",
      "2402    Babe: U want me dont u baby! Im nasty and have...\n",
      "2663    Hello darling how are you today? I would love ...\n",
      "751     Do you realize that in about 40 years, we'll h...\n",
      "4410    For your chance to WIN a FREE Bluetooth Headse...\n",
      "227     Will u meet ur dream partner soon? Is ur caree...\n",
      "1073    Dear U've been invited to XCHAT. This is our f...\n",
      "3360    Sorry I missed your call let's talk when you h...\n",
      "2770    Burger King - Wanna play footy at a top stadiu...\n",
      "5120         PRIVATE! Your 2003 Account Statement for 078\n",
      "4295    Kit Strip - you have been billed 150p. Netcoll...\n",
      "731     Email AlertFrom: Jeri StewartSize: 2KBSubject:...\n",
      "1893    CALL 09090900040 & LISTEN TO EXTREME DIRTY LIV...\n",
      "1777                    Call FREEPHONE 0800 542 0578 now!\n",
      "2699                             FROM 88066 LOST £12 HELP\n",
      "68      Did you hear about the new \"Divorce Barbie\"? I...\n",
      "5377    The current leading bid is 151. To pause this ...\n",
      "19      England v Macedonia - dont miss the goals/team...\n",
      "Name: message, dtype: object\n",
      "Accuracy : 0.984924623116\n"
     ]
    }
   ],
   "source": [
    "lsvm = SVC(kernel='linear', probability=True)\n",
    "\n",
    "compute_metrics(lsvm, 'stemmed')"
   ]
  },
  {
   "cell_type": "markdown",
   "metadata": {},
   "source": [
    "The use of the stemmed vectorizer that stop words into account, the result doesn't get much better.  \n",
    "This lead us to believe that languages features aren't very important when it come to detect spams.\n",
    "\n",
    "Taking the example from the \"MLforTextClassification\" provided notebook, it will be interesting to see what are the most important tokens for spam detection. We will have to use a Naive Bayes for that, SVM doesn't provide the metrics needed to perform that."
   ]
  },
  {
   "cell_type": "code",
   "execution_count": 74,
   "metadata": {},
   "outputs": [
    {
     "data": {
      "text/html": [
       "<div>\n",
       "<style scoped>\n",
       "    .dataframe tbody tr th:only-of-type {\n",
       "        vertical-align: middle;\n",
       "    }\n",
       "\n",
       "    .dataframe tbody tr th {\n",
       "        vertical-align: top;\n",
       "    }\n",
       "\n",
       "    .dataframe thead th {\n",
       "        text-align: right;\n",
       "    }\n",
       "</style>\n",
       "<table border=\"1\" class=\"dataframe\">\n",
       "  <thead>\n",
       "    <tr style=\"text-align: right;\">\n",
       "      <th></th>\n",
       "      <th>ham</th>\n",
       "      <th>spam</th>\n",
       "      <th>spam_ratio</th>\n",
       "    </tr>\n",
       "    <tr>\n",
       "      <th>token</th>\n",
       "      <th></th>\n",
       "      <th></th>\n",
       "      <th></th>\n",
       "    </tr>\n",
       "  </thead>\n",
       "  <tbody>\n",
       "    <tr>\n",
       "      <th>claim</th>\n",
       "      <td>1.0</td>\n",
       "      <td>81.0</td>\n",
       "      <td>81.000000</td>\n",
       "    </tr>\n",
       "    <tr>\n",
       "      <th>tone</th>\n",
       "      <td>1.0</td>\n",
       "      <td>71.0</td>\n",
       "      <td>71.000000</td>\n",
       "    </tr>\n",
       "    <tr>\n",
       "      <th>prize</th>\n",
       "      <td>1.0</td>\n",
       "      <td>61.0</td>\n",
       "      <td>61.000000</td>\n",
       "    </tr>\n",
       "    <tr>\n",
       "      <th>150p</th>\n",
       "      <td>1.0</td>\n",
       "      <td>54.0</td>\n",
       "      <td>54.000000</td>\n",
       "    </tr>\n",
       "    <tr>\n",
       "      <th>18</th>\n",
       "      <td>1.0</td>\n",
       "      <td>40.0</td>\n",
       "      <td>40.000000</td>\n",
       "    </tr>\n",
       "    <tr>\n",
       "      <th>guarante</th>\n",
       "      <td>1.0</td>\n",
       "      <td>39.0</td>\n",
       "      <td>39.000000</td>\n",
       "    </tr>\n",
       "    <tr>\n",
       "      <th>cs</th>\n",
       "      <td>1.0</td>\n",
       "      <td>35.0</td>\n",
       "      <td>35.000000</td>\n",
       "    </tr>\n",
       "    <tr>\n",
       "      <th>rington</th>\n",
       "      <td>1.0</td>\n",
       "      <td>34.0</td>\n",
       "      <td>34.000000</td>\n",
       "    </tr>\n",
       "    <tr>\n",
       "      <th>1000</th>\n",
       "      <td>1.0</td>\n",
       "      <td>34.0</td>\n",
       "      <td>34.000000</td>\n",
       "    </tr>\n",
       "    <tr>\n",
       "      <th>500</th>\n",
       "      <td>1.0</td>\n",
       "      <td>34.0</td>\n",
       "      <td>34.000000</td>\n",
       "    </tr>\n",
       "    <tr>\n",
       "      <th>100</th>\n",
       "      <td>1.0</td>\n",
       "      <td>32.0</td>\n",
       "      <td>32.000000</td>\n",
       "    </tr>\n",
       "    <tr>\n",
       "      <th>uk</th>\n",
       "      <td>2.0</td>\n",
       "      <td>58.0</td>\n",
       "      <td>29.000000</td>\n",
       "    </tr>\n",
       "    <tr>\n",
       "      <th>voucher</th>\n",
       "      <td>1.0</td>\n",
       "      <td>27.0</td>\n",
       "      <td>27.000000</td>\n",
       "    </tr>\n",
       "    <tr>\n",
       "      <th>award</th>\n",
       "      <td>2.0</td>\n",
       "      <td>54.0</td>\n",
       "      <td>27.000000</td>\n",
       "    </tr>\n",
       "    <tr>\n",
       "      <th>www</th>\n",
       "      <td>3.0</td>\n",
       "      <td>80.0</td>\n",
       "      <td>26.666667</td>\n",
       "    </tr>\n",
       "    <tr>\n",
       "      <th>150ppm</th>\n",
       "      <td>1.0</td>\n",
       "      <td>25.0</td>\n",
       "      <td>25.000000</td>\n",
       "    </tr>\n",
       "    <tr>\n",
       "      <th>poli</th>\n",
       "      <td>1.0</td>\n",
       "      <td>24.0</td>\n",
       "      <td>24.000000</td>\n",
       "    </tr>\n",
       "    <tr>\n",
       "      <th>000</th>\n",
       "      <td>1.0</td>\n",
       "      <td>23.0</td>\n",
       "      <td>23.000000</td>\n",
       "    </tr>\n",
       "    <tr>\n",
       "      <th>entri</th>\n",
       "      <td>1.0</td>\n",
       "      <td>22.0</td>\n",
       "      <td>22.000000</td>\n",
       "    </tr>\n",
       "    <tr>\n",
       "      <th>mob</th>\n",
       "      <td>1.0</td>\n",
       "      <td>21.0</td>\n",
       "      <td>21.000000</td>\n",
       "    </tr>\n",
       "    <tr>\n",
       "      <th>16</th>\n",
       "      <td>2.0</td>\n",
       "      <td>39.0</td>\n",
       "      <td>19.500000</td>\n",
       "    </tr>\n",
       "    <tr>\n",
       "      <th>10p</th>\n",
       "      <td>1.0</td>\n",
       "      <td>19.0</td>\n",
       "      <td>19.000000</td>\n",
       "    </tr>\n",
       "    <tr>\n",
       "      <th>8007</th>\n",
       "      <td>1.0</td>\n",
       "      <td>19.0</td>\n",
       "      <td>19.000000</td>\n",
       "    </tr>\n",
       "    <tr>\n",
       "      <th>valid</th>\n",
       "      <td>1.0</td>\n",
       "      <td>19.0</td>\n",
       "      <td>19.000000</td>\n",
       "    </tr>\n",
       "    <tr>\n",
       "      <th>800</th>\n",
       "      <td>1.0</td>\n",
       "      <td>17.0</td>\n",
       "      <td>17.000000</td>\n",
       "    </tr>\n",
       "    <tr>\n",
       "      <th>250</th>\n",
       "      <td>1.0</td>\n",
       "      <td>17.0</td>\n",
       "      <td>17.000000</td>\n",
       "    </tr>\n",
       "    <tr>\n",
       "      <th>5000</th>\n",
       "      <td>1.0</td>\n",
       "      <td>17.0</td>\n",
       "      <td>17.000000</td>\n",
       "    </tr>\n",
       "    <tr>\n",
       "      <th>750</th>\n",
       "      <td>1.0</td>\n",
       "      <td>17.0</td>\n",
       "      <td>17.000000</td>\n",
       "    </tr>\n",
       "    <tr>\n",
       "      <th>sae</th>\n",
       "      <td>1.0</td>\n",
       "      <td>16.0</td>\n",
       "      <td>16.000000</td>\n",
       "    </tr>\n",
       "    <tr>\n",
       "      <th>nation</th>\n",
       "      <td>1.0</td>\n",
       "      <td>16.0</td>\n",
       "      <td>16.000000</td>\n",
       "    </tr>\n",
       "    <tr>\n",
       "      <th>...</th>\n",
       "      <td>...</td>\n",
       "      <td>...</td>\n",
       "      <td>...</td>\n",
       "    </tr>\n",
       "    <tr>\n",
       "      <th>go</th>\n",
       "      <td>126.0</td>\n",
       "      <td>3.0</td>\n",
       "      <td>0.023810</td>\n",
       "    </tr>\n",
       "    <tr>\n",
       "      <th>home</th>\n",
       "      <td>131.0</td>\n",
       "      <td>3.0</td>\n",
       "      <td>0.022901</td>\n",
       "    </tr>\n",
       "    <tr>\n",
       "      <th>mean</th>\n",
       "      <td>44.0</td>\n",
       "      <td>1.0</td>\n",
       "      <td>0.022727</td>\n",
       "    </tr>\n",
       "    <tr>\n",
       "      <th>happi</th>\n",
       "      <td>88.0</td>\n",
       "      <td>2.0</td>\n",
       "      <td>0.022727</td>\n",
       "    </tr>\n",
       "    <tr>\n",
       "      <th>come</th>\n",
       "      <td>225.0</td>\n",
       "      <td>5.0</td>\n",
       "      <td>0.022222</td>\n",
       "    </tr>\n",
       "    <tr>\n",
       "      <th>gonna</th>\n",
       "      <td>45.0</td>\n",
       "      <td>1.0</td>\n",
       "      <td>0.022222</td>\n",
       "    </tr>\n",
       "    <tr>\n",
       "      <th>gud</th>\n",
       "      <td>45.0</td>\n",
       "      <td>1.0</td>\n",
       "      <td>0.022222</td>\n",
       "    </tr>\n",
       "    <tr>\n",
       "      <th>did</th>\n",
       "      <td>96.0</td>\n",
       "      <td>2.0</td>\n",
       "      <td>0.020833</td>\n",
       "    </tr>\n",
       "    <tr>\n",
       "      <th>went</th>\n",
       "      <td>49.0</td>\n",
       "      <td>1.0</td>\n",
       "      <td>0.020408</td>\n",
       "    </tr>\n",
       "    <tr>\n",
       "      <th>ll</th>\n",
       "      <td>202.0</td>\n",
       "      <td>4.0</td>\n",
       "      <td>0.019802</td>\n",
       "    </tr>\n",
       "    <tr>\n",
       "      <th>lol</th>\n",
       "      <td>51.0</td>\n",
       "      <td>1.0</td>\n",
       "      <td>0.019608</td>\n",
       "    </tr>\n",
       "    <tr>\n",
       "      <th>finish</th>\n",
       "      <td>51.0</td>\n",
       "      <td>1.0</td>\n",
       "      <td>0.019608</td>\n",
       "    </tr>\n",
       "    <tr>\n",
       "      <th>watch</th>\n",
       "      <td>51.0</td>\n",
       "      <td>1.0</td>\n",
       "      <td>0.019608</td>\n",
       "    </tr>\n",
       "    <tr>\n",
       "      <th>nice</th>\n",
       "      <td>52.0</td>\n",
       "      <td>1.0</td>\n",
       "      <td>0.019231</td>\n",
       "    </tr>\n",
       "    <tr>\n",
       "      <th>cos</th>\n",
       "      <td>54.0</td>\n",
       "      <td>1.0</td>\n",
       "      <td>0.018519</td>\n",
       "    </tr>\n",
       "    <tr>\n",
       "      <th>say</th>\n",
       "      <td>114.0</td>\n",
       "      <td>2.0</td>\n",
       "      <td>0.017544</td>\n",
       "    </tr>\n",
       "    <tr>\n",
       "      <th>sure</th>\n",
       "      <td>58.0</td>\n",
       "      <td>1.0</td>\n",
       "      <td>0.017241</td>\n",
       "    </tr>\n",
       "    <tr>\n",
       "      <th>smile</th>\n",
       "      <td>59.0</td>\n",
       "      <td>1.0</td>\n",
       "      <td>0.016949</td>\n",
       "    </tr>\n",
       "    <tr>\n",
       "      <th>sorri</th>\n",
       "      <td>119.0</td>\n",
       "      <td>2.0</td>\n",
       "      <td>0.016807</td>\n",
       "    </tr>\n",
       "    <tr>\n",
       "      <th>morn</th>\n",
       "      <td>62.0</td>\n",
       "      <td>1.0</td>\n",
       "      <td>0.016129</td>\n",
       "    </tr>\n",
       "    <tr>\n",
       "      <th>said</th>\n",
       "      <td>65.0</td>\n",
       "      <td>1.0</td>\n",
       "      <td>0.015385</td>\n",
       "    </tr>\n",
       "    <tr>\n",
       "      <th>sleep</th>\n",
       "      <td>65.0</td>\n",
       "      <td>1.0</td>\n",
       "      <td>0.015385</td>\n",
       "    </tr>\n",
       "    <tr>\n",
       "      <th>amp</th>\n",
       "      <td>69.0</td>\n",
       "      <td>1.0</td>\n",
       "      <td>0.014493</td>\n",
       "    </tr>\n",
       "    <tr>\n",
       "      <th>do</th>\n",
       "      <td>72.0</td>\n",
       "      <td>1.0</td>\n",
       "      <td>0.013889</td>\n",
       "    </tr>\n",
       "    <tr>\n",
       "      <th>oh</th>\n",
       "      <td>84.0</td>\n",
       "      <td>1.0</td>\n",
       "      <td>0.011905</td>\n",
       "    </tr>\n",
       "    <tr>\n",
       "      <th>later</th>\n",
       "      <td>112.0</td>\n",
       "      <td>1.0</td>\n",
       "      <td>0.008929</td>\n",
       "    </tr>\n",
       "    <tr>\n",
       "      <th>lor</th>\n",
       "      <td>114.0</td>\n",
       "      <td>1.0</td>\n",
       "      <td>0.008772</td>\n",
       "    </tr>\n",
       "    <tr>\n",
       "      <th>da</th>\n",
       "      <td>117.0</td>\n",
       "      <td>1.0</td>\n",
       "      <td>0.008547</td>\n",
       "    </tr>\n",
       "    <tr>\n",
       "      <th>lt</th>\n",
       "      <td>238.0</td>\n",
       "      <td>1.0</td>\n",
       "      <td>0.004202</td>\n",
       "    </tr>\n",
       "    <tr>\n",
       "      <th>gt</th>\n",
       "      <td>239.0</td>\n",
       "      <td>1.0</td>\n",
       "      <td>0.004184</td>\n",
       "    </tr>\n",
       "  </tbody>\n",
       "</table>\n",
       "<p>1951 rows × 3 columns</p>\n",
       "</div>"
      ],
      "text/plain": [
       "            ham  spam  spam_ratio\n",
       "token                            \n",
       "claim       1.0  81.0   81.000000\n",
       "tone        1.0  71.0   71.000000\n",
       "prize       1.0  61.0   61.000000\n",
       "150p        1.0  54.0   54.000000\n",
       "18          1.0  40.0   40.000000\n",
       "guarante    1.0  39.0   39.000000\n",
       "cs          1.0  35.0   35.000000\n",
       "rington     1.0  34.0   34.000000\n",
       "1000        1.0  34.0   34.000000\n",
       "500         1.0  34.0   34.000000\n",
       "100         1.0  32.0   32.000000\n",
       "uk          2.0  58.0   29.000000\n",
       "voucher     1.0  27.0   27.000000\n",
       "award       2.0  54.0   27.000000\n",
       "www         3.0  80.0   26.666667\n",
       "150ppm      1.0  25.0   25.000000\n",
       "poli        1.0  24.0   24.000000\n",
       "000         1.0  23.0   23.000000\n",
       "entri       1.0  22.0   22.000000\n",
       "mob         1.0  21.0   21.000000\n",
       "16          2.0  39.0   19.500000\n",
       "10p         1.0  19.0   19.000000\n",
       "8007        1.0  19.0   19.000000\n",
       "valid       1.0  19.0   19.000000\n",
       "800         1.0  17.0   17.000000\n",
       "250         1.0  17.0   17.000000\n",
       "5000        1.0  17.0   17.000000\n",
       "750         1.0  17.0   17.000000\n",
       "sae         1.0  16.0   16.000000\n",
       "nation      1.0  16.0   16.000000\n",
       "...         ...   ...         ...\n",
       "go        126.0   3.0    0.023810\n",
       "home      131.0   3.0    0.022901\n",
       "mean       44.0   1.0    0.022727\n",
       "happi      88.0   2.0    0.022727\n",
       "come      225.0   5.0    0.022222\n",
       "gonna      45.0   1.0    0.022222\n",
       "gud        45.0   1.0    0.022222\n",
       "did        96.0   2.0    0.020833\n",
       "went       49.0   1.0    0.020408\n",
       "ll        202.0   4.0    0.019802\n",
       "lol        51.0   1.0    0.019608\n",
       "finish     51.0   1.0    0.019608\n",
       "watch      51.0   1.0    0.019608\n",
       "nice       52.0   1.0    0.019231\n",
       "cos        54.0   1.0    0.018519\n",
       "say       114.0   2.0    0.017544\n",
       "sure       58.0   1.0    0.017241\n",
       "smile      59.0   1.0    0.016949\n",
       "sorri     119.0   2.0    0.016807\n",
       "morn       62.0   1.0    0.016129\n",
       "said       65.0   1.0    0.015385\n",
       "sleep      65.0   1.0    0.015385\n",
       "amp        69.0   1.0    0.014493\n",
       "do         72.0   1.0    0.013889\n",
       "oh         84.0   1.0    0.011905\n",
       "later     112.0   1.0    0.008929\n",
       "lor       114.0   1.0    0.008772\n",
       "da        117.0   1.0    0.008547\n",
       "lt        238.0   1.0    0.004202\n",
       "gt        239.0   1.0    0.004184\n",
       "\n",
       "[1951 rows x 3 columns]"
      ]
     },
     "execution_count": 74,
     "metadata": {},
     "output_type": "execute_result"
    }
   ],
   "source": [
    "nb = MultinomialNB()\n",
    "nb.fit(X_train_vect, y_train)\n",
    "\n",
    "X_train_tokens = vect.get_feature_names()\n",
    "ham_token_count = nb.feature_count_[0, :]\n",
    "spam_token_count = nb.feature_count_[1, :]\n",
    "\n",
    "tokens = pd.DataFrame({\"token\":X_train_tokens, \"ham\":ham_token_count, \"spam\":spam_token_count}).set_index(\"token\")\n",
    "tokens['ham'] = tokens['ham'] + 1\n",
    "tokens['spam'] = tokens['spam'] + 1\n",
    "tokens['spam_ratio'] = tokens['spam'] / tokens['ham']\n",
    "\n",
    "tokens.sort_values('spam_ratio', ascending=False)"
   ]
  },
  {
   "cell_type": "markdown",
   "metadata": {},
   "source": [
    "As we can see, even without stop words taken into acount, they don't seems very important for the classification.\n",
    "So when we use a vectorizer that take stops words into account, it doesn't help the classifier."
   ]
  },
  {
   "cell_type": "markdown",
   "metadata": {},
   "source": [
    "### SVM with polynomial kernel"
   ]
  },
  {
   "cell_type": "code",
   "execution_count": 15,
   "metadata": {},
   "outputs": [
    {
     "name": "stdout",
     "output_type": "stream",
     "text": [
      "0.856630824373\n",
      "0.84229390681\n",
      "0.876122082585\n",
      "0.870736086176\n",
      "0.870736086176\n",
      "0.883303411131\n",
      "0.868940754039\n",
      "0.850987432675\n",
      "0.868940754039\n",
      "0.870736086176\n",
      "SVM with polynomial kernel : 86.5942742418% accuracy\n"
     ]
    }
   ],
   "source": [
    "psvm = SVC(kernel='poly')\n",
    "\n",
    "score_poly = cross_val(psvm)\n",
    "\n",
    "print(\"SVM with polynomial kernel : \" + str(score_poly*100) + \"% accuracy\")"
   ]
  },
  {
   "cell_type": "code",
   "execution_count": 36,
   "metadata": {},
   "outputs": [
    {
     "name": "stdout",
     "output_type": "stream",
     "text": [
      "[[1207    0]\n",
      " [ 186    0]]\n"
     ]
    },
    {
     "data": {
      "image/png": "[encoded data removed]",
      "text/plain": [
       "<matplotlib.figure.Figure at 0x7fec89d89860>"
      ]
     },
     "metadata": {},
     "output_type": "display_data"
    },
    {
     "name": "stdout",
     "output_type": "stream",
     "text": [
      "False positive : \n",
      "Series([], Name: message, dtype: object)\n",
      "False negative : \n",
      "401     FREE RINGTONE text FIRST to 87131 for a poly o...\n",
      "5567    This is the 2nd time we have tried 2 contact u...\n",
      "881     Reminder: You have not downloaded the content ...\n",
      "1961    Guess what! Somebody you know secretly fancies...\n",
      "2664    8007 FREE for 1st week! No1 Nokia tone 4 ur mo...\n",
      "1598    URGENT! Your Mobile number has been awarded wi...\n",
      "3299    This message is free. Welcome to the new & imp...\n",
      "4500    SMS SERVICES. for your inclusive text credits,...\n",
      "296     T-Mobile customer you may now claim your FREE ...\n",
      "3298    Todays Voda numbers ending 5226 are selected t...\n",
      "3864    Oh my god! I've found your number again! I'm s...\n",
      "8       WINNER!! As a valued network customer you have...\n",
      "2575    Your next amazing xxx PICSFREE1 video will be ...\n",
      "319     December only! Had your mobile 11mths+? You ar...\n",
      "3548    Rock yr chik. Get 100's of filthy films &XXX p...\n",
      "5178    SMS AUCTION - A BRAND NEW Nokia 7250 is up 4 a...\n",
      "4808    PRIVATE! Your 2004 Account Statement for 07849...\n",
      "2402    Babe: U want me dont u baby! Im nasty and have...\n",
      "4527    I want some cock! My hubby's away, I need a re...\n",
      "15      XXXMobileMovieClub: To use your credit, click ...\n",
      "418     FREE entry into our £250 weekly competition ju...\n",
      "5250    Urgent! Please call 09061213237 from a landlin...\n",
      "2312    Congratulations! Thanks to a good friend U hav...\n",
      "2663    Hello darling how are you today? I would love ...\n",
      "4602    FreeMsg: Txt: CALL to No: 86888 & claim your r...\n",
      "3468    URGENT! We are trying to contact U. Todays dra...\n",
      "5164    Congrats 2 mobile 3G Videophones R yours. call...\n",
      "3433    Camera - You are awarded a SiPix Digital Camer...\n",
      "167     URGENT! We are trying to contact you. Last wee...\n",
      "422     Someone has contacted our dating service and e...\n",
      "                              ...                        \n",
      "2902    Ur cash-balance is currently 500 pounds - to m...\n",
      "415     100 dating service cal;l 09064012103 box334sk38ch\n",
      "1194    Sex up ur mobile with a FREE sexy pic of Jorda...\n",
      "1777                    Call FREEPHONE 0800 542 0578 now!\n",
      "2699                             FROM 88066 LOST £12 HELP\n",
      "1745    Someone has conacted our dating service and en...\n",
      "3807    URGENT! We are trying to contact you. Last wee...\n",
      "5314    Get the official ENGLAND poly ringtone or colo...\n",
      "4248    Text PASS to 69669 to collect your polyphonic ...\n",
      "120     PRIVATE! Your 2004 Account Statement for 07742...\n",
      "4329    Congrats! 2 mobile 3G Videophones R yours. cal...\n",
      "134     Sunshine Quiz Wkly Q! Win a top Sony DVD playe...\n",
      "3560    URGENT! We are trying to contact U Todays draw...\n",
      "3942    Free Msg: get Gnarls Barkleys \"Crazy\" ringtone...\n",
      "3893    URGENT This is our 2nd attempt to contact U. Y...\n",
      "1741    UR GOING 2 BAHAMAS! CallFREEFONE 08081560665 a...\n",
      "690     <Forwarded from 448712404000>Please CALL 08712...\n",
      "2170    Shop till u Drop, IS IT YOU, either 10K, 5K, £...\n",
      "4797    URGENT This is our 2nd attempt to contact U. Y...\n",
      "1507    Thanks for the Vote. Now sing along with the s...\n",
      "68      Did you hear about the new \"Divorce Barbie\"? I...\n",
      "5377    The current leading bid is 151. To pause this ...\n",
      "4888    Todays Vodafone numbers ending with 4882 are s...\n",
      "2115    Sunshine Hols. To claim ur med holiday send a ...\n",
      "4759    URGENT! Your Mobile number has been awarded wi...\n",
      "1456    Summers finally here! Fancy a chat or flirt wi...\n",
      "2209    URGENT!! Your 4* Costa Del Sol Holiday or £500...\n",
      "4127    SPJanuary Male Sale! Hot Gay chat now cheaper,...\n",
      "3132    LookAtMe!: Thanks for your purchase of a video...\n",
      "19      England v Macedonia - dont miss the goals/team...\n",
      "Name: message, Length: 186, dtype: object\n"
     ]
    }
   ],
   "source": [
    "svm = SVC(kernel='poly', probability=True)\n",
    "compute_metrics(svm)"
   ]
  },
  {
   "cell_type": "markdown",
   "metadata": {},
   "source": [
    "The SVM with polynomial kernel also have a good ROC curve. But we can see that the AUC score is lower than SVM with linear kernel. We know that SVM Polynomial have a 86% accuracy, which is much lower than the others classifier tested.  \n",
    "The confusion matrix show us that in fact SVM with poly kernel allways predict the SMS to not be a spam.  \n",
    "Since most SMS aren't spam, it has a good score. Still, it isn't a very interesting model."
   ]
  },
  {
   "cell_type": "markdown",
   "metadata": {},
   "source": [
    "### SVM with rbf kernel"
   ]
  },
  {
   "cell_type": "code",
   "execution_count": 18,
   "metadata": {},
   "outputs": [
    {
     "name": "stdout",
     "output_type": "stream",
     "text": [
      "0.856630824373\n",
      "0.84229390681\n",
      "0.876122082585\n",
      "0.870736086176\n",
      "0.870736086176\n",
      "0.883303411131\n",
      "0.868940754039\n",
      "0.850987432675\n",
      "0.868940754039\n",
      "0.870736086176\n",
      "SVM with rbf kernel : 86.5942742418% accuracy\n"
     ]
    }
   ],
   "source": [
    "rsvm = SVC(kernel='rbf')\n",
    "\n",
    "score_rbf = cross_val(rsvm)\n",
    "\n",
    "print(\"SVM with rbf kernel : \" + str(score_rbf*100) + \"% accuracy\")"
   ]
  },
  {
   "cell_type": "markdown",
   "metadata": {},
   "source": [
    "### SVM with sigmoid kernel"
   ]
  },
  {
   "cell_type": "code",
   "execution_count": 19,
   "metadata": {},
   "outputs": [
    {
     "name": "stdout",
     "output_type": "stream",
     "text": [
      "0.856630824373\n",
      "0.84229390681\n",
      "0.876122082585\n",
      "0.870736086176\n",
      "0.870736086176\n",
      "0.883303411131\n",
      "0.868940754039\n",
      "0.850987432675\n",
      "0.868940754039\n",
      "0.870736086176\n",
      "SVM with sigmoid kernel : 86.5942742418% accuracy\n"
     ]
    }
   ],
   "source": [
    "ssvm = SVC(kernel='sigmoid')\n",
    "\n",
    "score_sigmoid = cross_val(ssvm)\n",
    "\n",
    "print(\"SVM with sigmoid kernel : \" + str(score_sigmoid*100) + \"% accuracy\")"
   ]
  },
  {
   "cell_type": "markdown",
   "metadata": {},
   "source": [
    "All SVM with non-linear kernel all obtain the same 86.59%, which is a bit odd as we use different kernels. It probably show that the spam detection problem is simple enough that learning anything more complicated than a linear function doesn't work well.\n",
    "\n",
    "Analysis of the confusion matrix show that all of these SVMs allways predict SMS to be a \"legit\" SMS, which make them not very interesting."
   ]
  },
  {
   "cell_type": "markdown",
   "metadata": {},
   "source": [
    "## Decision Tree"
   ]
  },
  {
   "cell_type": "code",
   "execution_count": 20,
   "metadata": {},
   "outputs": [
    {
     "name": "stdout",
     "output_type": "stream",
     "text": [
      "0.967741935484\n",
      "0.980286738351\n",
      "0.967684021544\n",
      "0.971274685817\n",
      "0.96947935368\n",
      "0.97486535009\n",
      "0.962298025135\n",
      "0.964093357271\n",
      "0.956912028725\n",
      "0.97486535009\n",
      "Decision Tree score : 96.8950084619% accuracy\n"
     ]
    }
   ],
   "source": [
    "t = tree.DecisionTreeClassifier()\n",
    "\n",
    "score_tree = cross_val(t)\n",
    "\n",
    "print(\"Decision Tree score : \" + str(score_tree*100) + \"% accuracy\")"
   ]
  },
  {
   "cell_type": "markdown",
   "metadata": {},
   "source": [
    "The decision tree work pretty well, doing 96% accuracy on average.  \n",
    "This is a really good accuracy considering that decision tree can only separate example with simple vertical or horizontal hyperplans. But we already saw that learning complex function doesn't help much for spam detection."
   ]
  },
  {
   "cell_type": "code",
   "execution_count": 37,
   "metadata": {},
   "outputs": [
    {
     "name": "stdout",
     "output_type": "stream",
     "text": [
      "[[1192   15]\n",
      " [  26  160]]\n"
     ]
    },
    {
     "data": {
      "image/png": "[encoded data removed]",
      "text/plain": [
       "<matplotlib.figure.Figure at 0x7fec89d87400>"
      ]
     },
     "metadata": {},
     "output_type": "display_data"
    },
    {
     "name": "stdout",
     "output_type": "stream",
     "text": [
      "False positive : \n",
      "3142                       Customer place i will call you\n",
      "2422    Err... Cud do. I'm going to  at 8pm. I haven't...\n",
      "2225    I prefer my free days... Tues, wed, fri oso ca...\n",
      "1335    Oh ! A half hour is much longer in Syria than ...\n",
      "132               Dear, will call Tmorrow.pls accomodate.\n",
      "2905    HI DARLIN I HOPE YOU HAD A NICE NIGHT I WISH I...\n",
      "3728        Aldrine, rakhesh ex RTM here.pls call.urgent.\n",
      "199     Hi its Kate how is your evening? I hope i can ...\n",
      "486         If we win its really no 1 side for long time.\n",
      "3832    Let's pool our money together and buy a bunch ...\n",
      "387                       Customer place i will call you.\n",
      "4951    Hi its me you are probably having too much fun...\n",
      "5063    Havent stuck at orchard in my dad's car. Going...\n",
      "566     Ill call u 2mrw at ninish, with my address tha...\n",
      "4006    , ow u dey.i paid 60,400thousad.i told  u woul...\n",
      "Name: message, dtype: object\n",
      "False negative : \n",
      "881     Reminder: You have not downloaded the content ...\n",
      "1961    Guess what! Somebody you know secretly fancies...\n",
      "3299    This message is free. Welcome to the new & imp...\n",
      "3864    Oh my god! I've found your number again! I'm s...\n",
      "2402    Babe: U want me dont u baby! Im nasty and have...\n",
      "2663    Hello darling how are you today? I would love ...\n",
      "1022    Guess what! Somebody you know secretly fancies...\n",
      "751     Do you realize that in about 40 years, we'll h...\n",
      "3463    Bloomberg -Message center +447797706009 Why wa...\n",
      "2313    tddnewsletter@emc1.co.uk (More games from TheD...\n",
      "227     Will u meet ur dream partner soon? Is ur caree...\n",
      "3755    Bloomberg -Message center +447797706009 Why wa...\n",
      "856     Talk sexy!! Make new friends or fall in love i...\n",
      "4574    URGENT! This is the 2nd attempt to contact U!U...\n",
      "3360    Sorry I missed your call let's talk when you h...\n",
      "4506    Mobile Club: Choose any of the top quality ite...\n",
      "3425    Am new 2 club & dont fink we met yet Will B gr...\n",
      "2770    Burger King - Wanna play footy at a top stadiu...\n",
      "5120         PRIVATE! Your 2003 Account Statement for 078\n",
      "3002    This message is free. Welcome to the new & imp...\n",
      "1978    Reply to win £100 weekly! Where will the 2006 ...\n",
      "4086    Orange brings you ringtones from all time Char...\n",
      "415     100 dating service cal;l 09064012103 box334sk38ch\n",
      "2699                             FROM 88066 LOST £12 HELP\n",
      "68      Did you hear about the new \"Divorce Barbie\"? I...\n",
      "5377    The current leading bid is 151. To pause this ...\n",
      "Name: message, dtype: object\n"
     ]
    }
   ],
   "source": [
    "t = tree.DecisionTreeClassifier()\n",
    "compute_metrics(t)"
   ]
  },
  {
   "cell_type": "markdown",
   "metadata": {},
   "source": [
    "With the confusion matrix, we can see that decistion tree is pretty accurate. But it is worst than all the others classifier, except SVM with non-linear kernels."
   ]
  },
  {
   "cell_type": "markdown",
   "metadata": {},
   "source": [
    "### Experiment with POS tagging"
   ]
  },
  {
   "cell_type": "code",
   "execution_count": 86,
   "metadata": {},
   "outputs": [],
   "source": [
    "from nltk.tokenize import word_tokenize\n",
    "\n",
    "def tag_text(s):\n",
    "    r = \"\"\n",
    "    txt = word_tokenize(s)\n",
    "    for e in nltk.pos_tag(txt):\n",
    "        r += e[1] + \" \"\n",
    "    return r\n",
    "\n",
    "smsList = pd.read_table(\"SMSSpamCollection.txt\", header=None, names=['label', 'message'])\n",
    "\n",
    "smsList['message'] = smsList['message'].apply(tag_text)\n",
    "\n",
    "smsList[\"label\"] = smsList[\"label\"].map({\"ham\":0,\"spam\":1})\n",
    "\n",
    "X = smsList.message\n",
    "y = smsList.label"
   ]
  },
  {
   "cell_type": "code",
   "execution_count": 88,
   "metadata": {},
   "outputs": [
    {
     "name": "stdout",
     "output_type": "stream",
     "text": [
      "[[1149   58]\n",
      " [  47  139]]\n"
     ]
    },
    {
     "data": {
      "image/png": "[encoded data removed]",
      "text/plain": [
       "<matplotlib.figure.Figure at 0x7fec71b3dba8>"
      ]
     },
     "metadata": {},
     "output_type": "display_data"
    },
    {
     "name": "stdout",
     "output_type": "stream",
     "text": [
      "False positive : \n",
      "4315    VBZ JJ NNS CD NNS NN JJ . NNP JJ VBP RB VBN NN...\n",
      "3407    NNP NNP NNP : NNP NNP CD NNP NNP NNP NNP NNP ....\n",
      "3547    RB NNP NNP NNP NNP NNP VBZ NNP PRP VBP . . . N...\n",
      "1055    NNP NNP CD NNP CD NNP NNP NNP NNP . NNP NNP NN...\n",
      "1033                             NNP NNP NNP NNP NNP NNP \n",
      "3307    NNP NNP PRP VBP $ CD NNP NNP CD CD NNPS NNP NN...\n",
      "4536                         NNP NNP NNP NNP NNP NNP NNP \n",
      "5125    IN PRP$ NN NN : NNP CD CC NN : NNP FW NN NN : ...\n",
      "1879                     PRP VBP NNP NNP NNP NNP NNP NNP \n",
      "3199                 CD NN : NNP CD NN : NNP NN JJ VBG . \n",
      "1779    CD NNS IN NNP NNP CD PRP CD NNP NN CD NNP NN C...\n",
      "5155    PRP$ JJ NNP NNP NNP NNP . PRP VBP IN NNP NNP N...\n",
      "893     NNP . NNP . NNP . NNP . NNP . NNP . NNP . NN PRP \n",
      "1612                                                  CD \n",
      "2746                          NNP NNP VBG CD NN POS NN . \n",
      "1562         NNP NN : NN NN NNS IN DT NN JJ VBP CD NNS . \n",
      "2905    NNP NNP PRP VBP PRP VBD NNP NNP NNP PRP NNP PR...\n",
      "2034                         NNP NNP NNP NNP NNP NNP NNP \n",
      "2753                                  NNP NN . NNP NNS : \n",
      "5289           NN . $ CD . VB JJ CD CC JJ VBD CD JJ NN . \n",
      "3247    NNP NN NNP VBZ NNS CD NNS , EX CD NN , VBZ CD ...\n",
      "248                                NNP JJ NN IN CD NNS . \n",
      "1086    NNP VBZ IN DT NN IN DT NN . IN NNP NN IN JJ JJ...\n",
      "4333                         NNP NNP NNP PRP NNP NNP NNP \n",
      "3945                   IN CD NN : NNP , MD VB CD NN RB : \n",
      "1400    PRP VBP VBN NNP IN NNP . NNP IN IN NN CC NN NN...\n",
      "5506    NNP POS NN VBZ DT NN . NNP POS NN VBZ DT NN . ...\n",
      "1268                 NNP . NNP NNP NNP NNP NNP NNP NNP . \n",
      "3405    RB NNP VB NN TO VB NNP RP NN : NNP VBD CD NN I...\n",
      "425     VB DT TO VB NNS CC VB NN IN JJ NN : NNP NNP VB...\n",
      "251                            NNP JJ NN NNP CC VB CD NN \n",
      "3256         NNP NNP NNP NNP NNP NNP NNP NNP NNP NNP NNP \n",
      "994     DT NNP NN VBZ IN DT NNP NN VBZ VBN DT NNP NN V...\n",
      "3586    NNP VBZ JJ IN JJ NNP VBZ JJ IN JJ NNP NN NN IN...\n",
      "4861    NN VBZ CD IN NN JJ IN CD IN DT NN IN NNS POS '...\n",
      "1614                             NNP NN . JJ NNS RP CD . \n",
      "3017    CC NN : # CC NN : VBZ JJ VBG . RB , JJ VBP DT ...\n",
      "2571                         IN CD TO CD RB PRP$ NN NN . \n",
      "1569    NN VBZ NNP NNP NNP PRP IN . NNP NNP NNP NNP NN...\n",
      "5081    NNP NN NNS IN JJ NN , NN NN MD VB IN NN . RB J...\n",
      "2497    NNP NN VBZ NNP IN NN NN JJ JJ NN CC NN : # CC ...\n",
      "1650                       NNP NNP NNP NNP NNP NNP NNP . \n",
      "2519    NNP POS NN VBZ NNP . RB NNP VBZ DT NN IN NNP P...\n",
      "1743    NN . NNP NNP NNP NNP NNP NNP NNP NNP NNP NNP N...\n",
      "2029                          NNP VBZ JJ IN NN IN CD NNS \n",
      "414                                    NNP NN DT NNP NNS \n",
      "457     NN NNP NNP NNP NNP NNP , NNP NNP CC PRP VBP PR...\n",
      "263      PRP$ NNP . NNP NNP CD NNP NNP NNP NNP NNP . NNP \n",
      "3711                   NNP NNP NNP NNP . NNP VBZ NNP NNP \n",
      "4403    JJ NNP NNP IN DT NNP NNP NNP NNP DT JJ : CC NN...\n",
      "2963                               NN . NNP NNP NNP . NN \n",
      "5082    NN : IN PRP VBP DT NNS PRP VBZ DT JJ NN : NNP ...\n",
      "3458    NNP NN : JJ NNP NNP NNP NNP RB IN CC PRP MD VB...\n",
      "3085    NNP NN . PRP VBD CD NNS JJ RB CD DT NN CD NN N...\n",
      "3940                      NNP NNP NN TO VB RB . NNP NN . \n",
      "4605                    $ CD NNP NNP NNP NNP NNP NNP . . \n",
      "3656                                  NNP NN NN NNP CD . \n",
      "4318    NNP NNP NNP NNP NNP CD NNP NNP NNP NNP NNP NNP...\n",
      "Name: message, dtype: object\n",
      "False negative : \n",
      "881     NN : PRP VBP RB VBN DT NN PRP VBP RB VBN IN . ...\n",
      "1961    VB WP . NN PRP VBP RB NNS PRP . NNP RB VBP RP ...\n",
      "3864    UH PRP$ NN . PRP VBP VBN PRP$ NN RB . PRP VBP ...\n",
      "2575    PRP$ JJ JJ NN NNP NN MD VB VBN TO PRP VB . IN ...\n",
      "2402    NN : NNP VBP PRP JJ JJ NN . NNP JJ CC VBP DT N...\n",
      "15      NN : TO VB PRP$ NN , VBP DT NNP NN IN DT JJ JJ...\n",
      "2663    NNP VBG WRB VBP PRP NN . PRP MD VB TO VB DT NN...\n",
      "3468    NN . PRP VBP VBG TO VB NNP NNP NN VBZ IN PRP V...\n",
      "167     NN . PRP VBP VBG TO VB PRP . JJ NNS JJ NNS IN ...\n",
      "422     NN VBZ VBN PRP$ VBG NN CC VBD PRP$ NN IN PRP V...\n",
      "1022    VB WP . NN PRP VBP RB NNS PRP . NNP RB VBP RP ...\n",
      "751     VB PRP VB IN IN IN CD NNS , PRP MD VB NNS IN J...\n",
      "4048    NNS IN PRP$ NN NN , NN NN NNP NN MD VB VBN CD ...\n",
      "3463    NNP NN NN NNP WRB NN . NNP IN PRP$ JJ NN : NNS...\n",
      "240     RB CD VBP DT JJ NN WP VBZ VBG CD JJ NN IN NNP ...\n",
      "4410    IN PRP$ NN TO VB DT NNP NNP NNP RB RB VB RB IN...\n",
      "5076    DT VBZ DT JJ NN TO NN NNP , PRP VBP VBN DT NNS...\n",
      "4280    NNP . NNP NN IN CD NN . NN VBZ PRP$ JJ NN . CD...\n",
      "879     NNS VBP DT JJ NN WP VBZ VBG CD JJ NN IN NNP RP...\n",
      "65      IN DT VBN NN , PRP VBP JJ TO VB PRP IN VBG JJ ...\n",
      "4047                       VB DT NN NN NN CC DT JJ NN NN \n",
      "227     MD VB VB JJ NN NN RB . VBZ JJ NN IN CD DT JJ N...\n",
      "4586    NNS VBP DT JJ NN WP VBZ VBG CD JJ NN IN NNP RP...\n",
      "3885    DT NN TO PRP$ NN VBZ VBN VBN . PRP MD RB VB NN...\n",
      "3755    NNP NN NN NNP WRB NN . NNP IN PRP$ JJ NN : NNS...\n",
      "856     NN NN . . NNP JJ NNS CC NN IN NN IN DT NNS RBS...\n",
      "2670    PRP VBD TO VB PRP VB PRP$ NN TO PRP$ NN IN DT ...\n",
      "3360    NNP PRP VBD PRP$ NN NN POS NN WRB PRP VBP DT N...\n",
      "4506      JJ NN : NNP DT IN DT JJ NN NNS IN PRP$ NN . CD \n",
      "5037    PRP MD RB VB PRP CC PRP VBZ JJ . PRP VBZ JJ NN...\n",
      "3443    NNP NN IN VBG NN IN NN NNP IN DT JJ NN IN JJ N...\n",
      "1536    PRP VBP VBN DT NNP CD . DT VBZ WP PRP VBP WRB ...\n",
      "3334    PRP VBP VBG VBN IN PRP$ VBG NN IN NN PRP VBP ....\n",
      "2742    PRP VBP RB VB JJ CC JJ VBP RB VB PRP . VB NNP ...\n",
      "1874    PRP VBP VBN DT JJ CD NN CC DT CD NN NN NN VB V...\n",
      "1699    JJ NN . NNP , DT NN PRP VBD IN CD MD RB VB VBN...\n",
      "4696    NN . PRP$ JJ DT NN VBD VBN DT CD NNP NNP NNP I...\n",
      "1745    NN VBZ VBN PRP$ VBG NN CC VBD PRP$ NN IN PRP V...\n",
      "3807    NN . PRP VBP VBG TO VB PRP . JJ NNS JJ NNS IN ...\n",
      "3560    NN . PRP VBP VBG TO VB NNP NNP NN VBZ IN PRP V...\n",
      "3942    JJ NNP : VB NNP NNP `` NNP '' NN NNP NNP RB RB...\n",
      "3893    IN DT VBZ PRP$ JJ NN TO VB NNP . PRP$ JJ NN IN...\n",
      "690     NN VBD IN CD JJ NNP NNP CD RB IN EX VBZ DT JJ ...\n",
      "4797    IN DT VBZ PRP$ JJ NN TO VB NNP . PRP$ JJ NN IN...\n",
      "1507    NNS IN DT NNP . RB VBG IN IN DT NNS IN NNP IN ...\n",
      "68      NNP PRP VBP IN DT JJ `` NNP NNP '' . PRP VBZ I...\n",
      "3132    NN . : NNS IN PRP$ NN IN DT NN NN IN NNP . , P...\n",
      "Name: message, dtype: object\n",
      "Accuracy : 0.924623115578\n"
     ]
    }
   ],
   "source": [
    "nb = MultinomialNB()\n",
    "\n",
    "compute_metrics(nb)"
   ]
  },
  {
   "cell_type": "markdown",
   "metadata": {},
   "source": [
    "Attempt to generalize message content by using tagged text instead of the real text lower the classifier performance. This means that the loss of information due to the use of tags instead of the actuel text is significant enough to impact the classifier performance.  \n",
    "Still, we have a 92% accuracy with 0.9 AUC, which is not that bad."
   ]
  },
  {
   "cell_type": "markdown",
   "metadata": {},
   "source": [
    "## Conclusion\n",
    "\n",
    "From all the classifier tested, allmost all of them are around 98% of succesfull classification for this problem of spam detection.  \n",
    "The best classifier seems to be the Naive Bayes which is difficult to beat, even with more complex system like Perceptron and Support Vector Machines.\n",
    "\n",
    "The success of simple machine learning algorithms like Naive Bayes (even the Decision Tree provide a pretty good classification), show us that the spam detection seems to be an \"easy\" machine learning problem, because using complex machine learning methods doesn't improve the already good results we have with simpler algorithms.\n"
   ]
  },
  {
   "cell_type": "code",
   "execution_count": null,
   "metadata": {},
   "outputs": [],
   "source": []
  }
 ],
 "metadata": {
  "kernelspec": {
   "display_name": "Python 3",
   "language": "python",
   "name": "python3"
  },
  "language_info": {
   "codemirror_mode": {
    "name": "ipython",
    "version": 3
   },
   "file_extension": ".py",
   "mimetype": "text/x-python",
   "name": "python",
   "nbconvert_exporter": "python",
   "pygments_lexer": "ipython3",
   "version": "3.6.2"
  }
 },
 "nbformat": 4,
 "nbformat_minor": 2
}
